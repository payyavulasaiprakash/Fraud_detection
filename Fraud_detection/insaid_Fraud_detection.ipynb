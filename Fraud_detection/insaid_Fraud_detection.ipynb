{
  "cells": [
    {
      "cell_type": "code",
      "execution_count": 1,
      "metadata": {
        "colab": {
          "base_uri": "https://localhost:8080/",
          "height": 250
        },
        "id": "VEExv7zBRsXG",
        "outputId": "cd5e2d39-a1d4-4625-cce9-22c876c5c863"
      },
      "outputs": [
        {
          "output_type": "execute_result",
          "data": {
            "text/plain": [
              "   step      type    amount     nameOrig  oldbalanceOrg  newbalanceOrig  \\\n",
              "0     1   PAYMENT   9839.64  C1231006815       170136.0       160296.36   \n",
              "1     1   PAYMENT   1864.28  C1666544295        21249.0        19384.72   \n",
              "2     1  TRANSFER    181.00  C1305486145          181.0            0.00   \n",
              "3     1  CASH_OUT    181.00   C840083671          181.0            0.00   \n",
              "4     1   PAYMENT  11668.14  C2048537720        41554.0        29885.86   \n",
              "\n",
              "      nameDest  oldbalanceDest  newbalanceDest  isFraud  isFlaggedFraud  \n",
              "0  M1979787155             0.0             0.0        0               0  \n",
              "1  M2044282225             0.0             0.0        0               0  \n",
              "2   C553264065             0.0             0.0        1               0  \n",
              "3    C38997010         21182.0             0.0        1               0  \n",
              "4  M1230701703             0.0             0.0        0               0  "
            ],
            "text/html": [
              "\n",
              "  <div id=\"df-c65a8f90-430d-4e6f-833e-1e3dfda98d5f\">\n",
              "    <div class=\"colab-df-container\">\n",
              "      <div>\n",
              "<style scoped>\n",
              "    .dataframe tbody tr th:only-of-type {\n",
              "        vertical-align: middle;\n",
              "    }\n",
              "\n",
              "    .dataframe tbody tr th {\n",
              "        vertical-align: top;\n",
              "    }\n",
              "\n",
              "    .dataframe thead th {\n",
              "        text-align: right;\n",
              "    }\n",
              "</style>\n",
              "<table border=\"1\" class=\"dataframe\">\n",
              "  <thead>\n",
              "    <tr style=\"text-align: right;\">\n",
              "      <th></th>\n",
              "      <th>step</th>\n",
              "      <th>type</th>\n",
              "      <th>amount</th>\n",
              "      <th>nameOrig</th>\n",
              "      <th>oldbalanceOrg</th>\n",
              "      <th>newbalanceOrig</th>\n",
              "      <th>nameDest</th>\n",
              "      <th>oldbalanceDest</th>\n",
              "      <th>newbalanceDest</th>\n",
              "      <th>isFraud</th>\n",
              "      <th>isFlaggedFraud</th>\n",
              "    </tr>\n",
              "  </thead>\n",
              "  <tbody>\n",
              "    <tr>\n",
              "      <th>0</th>\n",
              "      <td>1</td>\n",
              "      <td>PAYMENT</td>\n",
              "      <td>9839.64</td>\n",
              "      <td>C1231006815</td>\n",
              "      <td>170136.0</td>\n",
              "      <td>160296.36</td>\n",
              "      <td>M1979787155</td>\n",
              "      <td>0.0</td>\n",
              "      <td>0.0</td>\n",
              "      <td>0</td>\n",
              "      <td>0</td>\n",
              "    </tr>\n",
              "    <tr>\n",
              "      <th>1</th>\n",
              "      <td>1</td>\n",
              "      <td>PAYMENT</td>\n",
              "      <td>1864.28</td>\n",
              "      <td>C1666544295</td>\n",
              "      <td>21249.0</td>\n",
              "      <td>19384.72</td>\n",
              "      <td>M2044282225</td>\n",
              "      <td>0.0</td>\n",
              "      <td>0.0</td>\n",
              "      <td>0</td>\n",
              "      <td>0</td>\n",
              "    </tr>\n",
              "    <tr>\n",
              "      <th>2</th>\n",
              "      <td>1</td>\n",
              "      <td>TRANSFER</td>\n",
              "      <td>181.00</td>\n",
              "      <td>C1305486145</td>\n",
              "      <td>181.0</td>\n",
              "      <td>0.00</td>\n",
              "      <td>C553264065</td>\n",
              "      <td>0.0</td>\n",
              "      <td>0.0</td>\n",
              "      <td>1</td>\n",
              "      <td>0</td>\n",
              "    </tr>\n",
              "    <tr>\n",
              "      <th>3</th>\n",
              "      <td>1</td>\n",
              "      <td>CASH_OUT</td>\n",
              "      <td>181.00</td>\n",
              "      <td>C840083671</td>\n",
              "      <td>181.0</td>\n",
              "      <td>0.00</td>\n",
              "      <td>C38997010</td>\n",
              "      <td>21182.0</td>\n",
              "      <td>0.0</td>\n",
              "      <td>1</td>\n",
              "      <td>0</td>\n",
              "    </tr>\n",
              "    <tr>\n",
              "      <th>4</th>\n",
              "      <td>1</td>\n",
              "      <td>PAYMENT</td>\n",
              "      <td>11668.14</td>\n",
              "      <td>C2048537720</td>\n",
              "      <td>41554.0</td>\n",
              "      <td>29885.86</td>\n",
              "      <td>M1230701703</td>\n",
              "      <td>0.0</td>\n",
              "      <td>0.0</td>\n",
              "      <td>0</td>\n",
              "      <td>0</td>\n",
              "    </tr>\n",
              "  </tbody>\n",
              "</table>\n",
              "</div>\n",
              "      <button class=\"colab-df-convert\" onclick=\"convertToInteractive('df-c65a8f90-430d-4e6f-833e-1e3dfda98d5f')\"\n",
              "              title=\"Convert this dataframe to an interactive table.\"\n",
              "              style=\"display:none;\">\n",
              "        \n",
              "  <svg xmlns=\"http://www.w3.org/2000/svg\" height=\"24px\"viewBox=\"0 0 24 24\"\n",
              "       width=\"24px\">\n",
              "    <path d=\"M0 0h24v24H0V0z\" fill=\"none\"/>\n",
              "    <path d=\"M18.56 5.44l.94 2.06.94-2.06 2.06-.94-2.06-.94-.94-2.06-.94 2.06-2.06.94zm-11 1L8.5 8.5l.94-2.06 2.06-.94-2.06-.94L8.5 2.5l-.94 2.06-2.06.94zm10 10l.94 2.06.94-2.06 2.06-.94-2.06-.94-.94-2.06-.94 2.06-2.06.94z\"/><path d=\"M17.41 7.96l-1.37-1.37c-.4-.4-.92-.59-1.43-.59-.52 0-1.04.2-1.43.59L10.3 9.45l-7.72 7.72c-.78.78-.78 2.05 0 2.83L4 21.41c.39.39.9.59 1.41.59.51 0 1.02-.2 1.41-.59l7.78-7.78 2.81-2.81c.8-.78.8-2.07 0-2.86zM5.41 20L4 18.59l7.72-7.72 1.47 1.35L5.41 20z\"/>\n",
              "  </svg>\n",
              "      </button>\n",
              "      \n",
              "  <style>\n",
              "    .colab-df-container {\n",
              "      display:flex;\n",
              "      flex-wrap:wrap;\n",
              "      gap: 12px;\n",
              "    }\n",
              "\n",
              "    .colab-df-convert {\n",
              "      background-color: #E8F0FE;\n",
              "      border: none;\n",
              "      border-radius: 50%;\n",
              "      cursor: pointer;\n",
              "      display: none;\n",
              "      fill: #1967D2;\n",
              "      height: 32px;\n",
              "      padding: 0 0 0 0;\n",
              "      width: 32px;\n",
              "    }\n",
              "\n",
              "    .colab-df-convert:hover {\n",
              "      background-color: #E2EBFA;\n",
              "      box-shadow: 0px 1px 2px rgba(60, 64, 67, 0.3), 0px 1px 3px 1px rgba(60, 64, 67, 0.15);\n",
              "      fill: #174EA6;\n",
              "    }\n",
              "\n",
              "    [theme=dark] .colab-df-convert {\n",
              "      background-color: #3B4455;\n",
              "      fill: #D2E3FC;\n",
              "    }\n",
              "\n",
              "    [theme=dark] .colab-df-convert:hover {\n",
              "      background-color: #434B5C;\n",
              "      box-shadow: 0px 1px 3px 1px rgba(0, 0, 0, 0.15);\n",
              "      filter: drop-shadow(0px 1px 2px rgba(0, 0, 0, 0.3));\n",
              "      fill: #FFFFFF;\n",
              "    }\n",
              "  </style>\n",
              "\n",
              "      <script>\n",
              "        const buttonEl =\n",
              "          document.querySelector('#df-c65a8f90-430d-4e6f-833e-1e3dfda98d5f button.colab-df-convert');\n",
              "        buttonEl.style.display =\n",
              "          google.colab.kernel.accessAllowed ? 'block' : 'none';\n",
              "\n",
              "        async function convertToInteractive(key) {\n",
              "          const element = document.querySelector('#df-c65a8f90-430d-4e6f-833e-1e3dfda98d5f');\n",
              "          const dataTable =\n",
              "            await google.colab.kernel.invokeFunction('convertToInteractive',\n",
              "                                                     [key], {});\n",
              "          if (!dataTable) return;\n",
              "\n",
              "          const docLinkHtml = 'Like what you see? Visit the ' +\n",
              "            '<a target=\"_blank\" href=https://colab.research.google.com/notebooks/data_table.ipynb>data table notebook</a>'\n",
              "            + ' to learn more about interactive tables.';\n",
              "          element.innerHTML = '';\n",
              "          dataTable['output_type'] = 'display_data';\n",
              "          await google.colab.output.renderOutput(dataTable, element);\n",
              "          const docLink = document.createElement('div');\n",
              "          docLink.innerHTML = docLinkHtml;\n",
              "          element.appendChild(docLink);\n",
              "        }\n",
              "      </script>\n",
              "    </div>\n",
              "  </div>\n",
              "  "
            ]
          },
          "metadata": {},
          "execution_count": 1
        }
      ],
      "source": [
        "import pandas as pd\n",
        "df = pd.read_csv('/content/drive/MyDrive/insaid_task/Fraud.csv')\n",
        "df.head()"
      ]
    },
    {
      "cell_type": "markdown",
      "metadata": {
        "id": "KhH21P-ogcc0"
      },
      "source": [
        "### 1. Data cleaning including missing values, outliers and multi-collinearity."
      ]
    },
    {
      "cell_type": "code",
      "execution_count": 2,
      "metadata": {
        "colab": {
          "base_uri": "https://localhost:8080/"
        },
        "id": "iZcNdF0hgatP",
        "outputId": "ad27ff6c-66ca-4277-b4fd-022cc2038b1f"
      },
      "outputs": [
        {
          "output_type": "stream",
          "name": "stdout",
          "text": [
            "<class 'pandas.core.frame.DataFrame'>\n",
            "RangeIndex: 6362620 entries, 0 to 6362619\n",
            "Data columns (total 11 columns):\n",
            " #   Column          Dtype  \n",
            "---  ------          -----  \n",
            " 0   step            int64  \n",
            " 1   type            object \n",
            " 2   amount          float64\n",
            " 3   nameOrig        object \n",
            " 4   oldbalanceOrg   float64\n",
            " 5   newbalanceOrig  float64\n",
            " 6   nameDest        object \n",
            " 7   oldbalanceDest  float64\n",
            " 8   newbalanceDest  float64\n",
            " 9   isFraud         int64  \n",
            " 10  isFlaggedFraud  int64  \n",
            "dtypes: float64(5), int64(3), object(3)\n",
            "memory usage: 534.0+ MB\n"
          ]
        }
      ],
      "source": [
        "df.info()"
      ]
    },
    {
      "cell_type": "code",
      "execution_count": 3,
      "metadata": {
        "id": "XrVc9Sjohge1"
      },
      "outputs": [],
      "source": [
        "df['isFlaggedFraud']=df['isFlaggedFraud'].astype(str)\n",
        "df['isFraud']=df['isFraud'].astype(str)"
      ]
    },
    {
      "cell_type": "code",
      "execution_count": 4,
      "metadata": {
        "colab": {
          "base_uri": "https://localhost:8080/",
          "height": 300
        },
        "id": "96BeBMM_gjk8",
        "outputId": "22a4a92c-56cc-462c-fdfb-bdf9ddba1012"
      },
      "outputs": [
        {
          "output_type": "execute_result",
          "data": {
            "text/plain": [
              "               step        amount  oldbalanceOrg  newbalanceOrig  \\\n",
              "count  6.362620e+06  6.362620e+06   6.362620e+06    6.362620e+06   \n",
              "mean   2.433972e+02  1.798619e+05   8.338831e+05    8.551137e+05   \n",
              "std    1.423320e+02  6.038582e+05   2.888243e+06    2.924049e+06   \n",
              "min    1.000000e+00  0.000000e+00   0.000000e+00    0.000000e+00   \n",
              "25%    1.560000e+02  1.338957e+04   0.000000e+00    0.000000e+00   \n",
              "50%    2.390000e+02  7.487194e+04   1.420800e+04    0.000000e+00   \n",
              "75%    3.350000e+02  2.087215e+05   1.073152e+05    1.442584e+05   \n",
              "max    7.430000e+02  9.244552e+07   5.958504e+07    4.958504e+07   \n",
              "\n",
              "       oldbalanceDest  newbalanceDest  \n",
              "count    6.362620e+06    6.362620e+06  \n",
              "mean     1.100702e+06    1.224996e+06  \n",
              "std      3.399180e+06    3.674129e+06  \n",
              "min      0.000000e+00    0.000000e+00  \n",
              "25%      0.000000e+00    0.000000e+00  \n",
              "50%      1.327057e+05    2.146614e+05  \n",
              "75%      9.430367e+05    1.111909e+06  \n",
              "max      3.560159e+08    3.561793e+08  "
            ],
            "text/html": [
              "\n",
              "  <div id=\"df-07acd45a-2c05-47cd-86d4-f058b2881f80\">\n",
              "    <div class=\"colab-df-container\">\n",
              "      <div>\n",
              "<style scoped>\n",
              "    .dataframe tbody tr th:only-of-type {\n",
              "        vertical-align: middle;\n",
              "    }\n",
              "\n",
              "    .dataframe tbody tr th {\n",
              "        vertical-align: top;\n",
              "    }\n",
              "\n",
              "    .dataframe thead th {\n",
              "        text-align: right;\n",
              "    }\n",
              "</style>\n",
              "<table border=\"1\" class=\"dataframe\">\n",
              "  <thead>\n",
              "    <tr style=\"text-align: right;\">\n",
              "      <th></th>\n",
              "      <th>step</th>\n",
              "      <th>amount</th>\n",
              "      <th>oldbalanceOrg</th>\n",
              "      <th>newbalanceOrig</th>\n",
              "      <th>oldbalanceDest</th>\n",
              "      <th>newbalanceDest</th>\n",
              "    </tr>\n",
              "  </thead>\n",
              "  <tbody>\n",
              "    <tr>\n",
              "      <th>count</th>\n",
              "      <td>6.362620e+06</td>\n",
              "      <td>6.362620e+06</td>\n",
              "      <td>6.362620e+06</td>\n",
              "      <td>6.362620e+06</td>\n",
              "      <td>6.362620e+06</td>\n",
              "      <td>6.362620e+06</td>\n",
              "    </tr>\n",
              "    <tr>\n",
              "      <th>mean</th>\n",
              "      <td>2.433972e+02</td>\n",
              "      <td>1.798619e+05</td>\n",
              "      <td>8.338831e+05</td>\n",
              "      <td>8.551137e+05</td>\n",
              "      <td>1.100702e+06</td>\n",
              "      <td>1.224996e+06</td>\n",
              "    </tr>\n",
              "    <tr>\n",
              "      <th>std</th>\n",
              "      <td>1.423320e+02</td>\n",
              "      <td>6.038582e+05</td>\n",
              "      <td>2.888243e+06</td>\n",
              "      <td>2.924049e+06</td>\n",
              "      <td>3.399180e+06</td>\n",
              "      <td>3.674129e+06</td>\n",
              "    </tr>\n",
              "    <tr>\n",
              "      <th>min</th>\n",
              "      <td>1.000000e+00</td>\n",
              "      <td>0.000000e+00</td>\n",
              "      <td>0.000000e+00</td>\n",
              "      <td>0.000000e+00</td>\n",
              "      <td>0.000000e+00</td>\n",
              "      <td>0.000000e+00</td>\n",
              "    </tr>\n",
              "    <tr>\n",
              "      <th>25%</th>\n",
              "      <td>1.560000e+02</td>\n",
              "      <td>1.338957e+04</td>\n",
              "      <td>0.000000e+00</td>\n",
              "      <td>0.000000e+00</td>\n",
              "      <td>0.000000e+00</td>\n",
              "      <td>0.000000e+00</td>\n",
              "    </tr>\n",
              "    <tr>\n",
              "      <th>50%</th>\n",
              "      <td>2.390000e+02</td>\n",
              "      <td>7.487194e+04</td>\n",
              "      <td>1.420800e+04</td>\n",
              "      <td>0.000000e+00</td>\n",
              "      <td>1.327057e+05</td>\n",
              "      <td>2.146614e+05</td>\n",
              "    </tr>\n",
              "    <tr>\n",
              "      <th>75%</th>\n",
              "      <td>3.350000e+02</td>\n",
              "      <td>2.087215e+05</td>\n",
              "      <td>1.073152e+05</td>\n",
              "      <td>1.442584e+05</td>\n",
              "      <td>9.430367e+05</td>\n",
              "      <td>1.111909e+06</td>\n",
              "    </tr>\n",
              "    <tr>\n",
              "      <th>max</th>\n",
              "      <td>7.430000e+02</td>\n",
              "      <td>9.244552e+07</td>\n",
              "      <td>5.958504e+07</td>\n",
              "      <td>4.958504e+07</td>\n",
              "      <td>3.560159e+08</td>\n",
              "      <td>3.561793e+08</td>\n",
              "    </tr>\n",
              "  </tbody>\n",
              "</table>\n",
              "</div>\n",
              "      <button class=\"colab-df-convert\" onclick=\"convertToInteractive('df-07acd45a-2c05-47cd-86d4-f058b2881f80')\"\n",
              "              title=\"Convert this dataframe to an interactive table.\"\n",
              "              style=\"display:none;\">\n",
              "        \n",
              "  <svg xmlns=\"http://www.w3.org/2000/svg\" height=\"24px\"viewBox=\"0 0 24 24\"\n",
              "       width=\"24px\">\n",
              "    <path d=\"M0 0h24v24H0V0z\" fill=\"none\"/>\n",
              "    <path d=\"M18.56 5.44l.94 2.06.94-2.06 2.06-.94-2.06-.94-.94-2.06-.94 2.06-2.06.94zm-11 1L8.5 8.5l.94-2.06 2.06-.94-2.06-.94L8.5 2.5l-.94 2.06-2.06.94zm10 10l.94 2.06.94-2.06 2.06-.94-2.06-.94-.94-2.06-.94 2.06-2.06.94z\"/><path d=\"M17.41 7.96l-1.37-1.37c-.4-.4-.92-.59-1.43-.59-.52 0-1.04.2-1.43.59L10.3 9.45l-7.72 7.72c-.78.78-.78 2.05 0 2.83L4 21.41c.39.39.9.59 1.41.59.51 0 1.02-.2 1.41-.59l7.78-7.78 2.81-2.81c.8-.78.8-2.07 0-2.86zM5.41 20L4 18.59l7.72-7.72 1.47 1.35L5.41 20z\"/>\n",
              "  </svg>\n",
              "      </button>\n",
              "      \n",
              "  <style>\n",
              "    .colab-df-container {\n",
              "      display:flex;\n",
              "      flex-wrap:wrap;\n",
              "      gap: 12px;\n",
              "    }\n",
              "\n",
              "    .colab-df-convert {\n",
              "      background-color: #E8F0FE;\n",
              "      border: none;\n",
              "      border-radius: 50%;\n",
              "      cursor: pointer;\n",
              "      display: none;\n",
              "      fill: #1967D2;\n",
              "      height: 32px;\n",
              "      padding: 0 0 0 0;\n",
              "      width: 32px;\n",
              "    }\n",
              "\n",
              "    .colab-df-convert:hover {\n",
              "      background-color: #E2EBFA;\n",
              "      box-shadow: 0px 1px 2px rgba(60, 64, 67, 0.3), 0px 1px 3px 1px rgba(60, 64, 67, 0.15);\n",
              "      fill: #174EA6;\n",
              "    }\n",
              "\n",
              "    [theme=dark] .colab-df-convert {\n",
              "      background-color: #3B4455;\n",
              "      fill: #D2E3FC;\n",
              "    }\n",
              "\n",
              "    [theme=dark] .colab-df-convert:hover {\n",
              "      background-color: #434B5C;\n",
              "      box-shadow: 0px 1px 3px 1px rgba(0, 0, 0, 0.15);\n",
              "      filter: drop-shadow(0px 1px 2px rgba(0, 0, 0, 0.3));\n",
              "      fill: #FFFFFF;\n",
              "    }\n",
              "  </style>\n",
              "\n",
              "      <script>\n",
              "        const buttonEl =\n",
              "          document.querySelector('#df-07acd45a-2c05-47cd-86d4-f058b2881f80 button.colab-df-convert');\n",
              "        buttonEl.style.display =\n",
              "          google.colab.kernel.accessAllowed ? 'block' : 'none';\n",
              "\n",
              "        async function convertToInteractive(key) {\n",
              "          const element = document.querySelector('#df-07acd45a-2c05-47cd-86d4-f058b2881f80');\n",
              "          const dataTable =\n",
              "            await google.colab.kernel.invokeFunction('convertToInteractive',\n",
              "                                                     [key], {});\n",
              "          if (!dataTable) return;\n",
              "\n",
              "          const docLinkHtml = 'Like what you see? Visit the ' +\n",
              "            '<a target=\"_blank\" href=https://colab.research.google.com/notebooks/data_table.ipynb>data table notebook</a>'\n",
              "            + ' to learn more about interactive tables.';\n",
              "          element.innerHTML = '';\n",
              "          dataTable['output_type'] = 'display_data';\n",
              "          await google.colab.output.renderOutput(dataTable, element);\n",
              "          const docLink = document.createElement('div');\n",
              "          docLink.innerHTML = docLinkHtml;\n",
              "          element.appendChild(docLink);\n",
              "        }\n",
              "      </script>\n",
              "    </div>\n",
              "  </div>\n",
              "  "
            ]
          },
          "metadata": {},
          "execution_count": 4
        }
      ],
      "source": [
        "df.describe()"
      ]
    },
    {
      "cell_type": "code",
      "execution_count": 5,
      "metadata": {
        "colab": {
          "base_uri": "https://localhost:8080/"
        },
        "id": "yG_uecMLgky-",
        "outputId": "c95a0462-cb80-44dd-d80d-1f480e7bc577"
      },
      "outputs": [
        {
          "output_type": "execute_result",
          "data": {
            "text/plain": [
              "step              0\n",
              "type              0\n",
              "amount            0\n",
              "nameOrig          0\n",
              "oldbalanceOrg     0\n",
              "newbalanceOrig    0\n",
              "nameDest          0\n",
              "oldbalanceDest    0\n",
              "newbalanceDest    0\n",
              "isFraud           0\n",
              "isFlaggedFraud    0\n",
              "dtype: int64"
            ]
          },
          "metadata": {},
          "execution_count": 5
        }
      ],
      "source": [
        "df.isnull().sum()"
      ]
    },
    {
      "cell_type": "code",
      "execution_count": 6,
      "metadata": {
        "colab": {
          "base_uri": "https://localhost:8080/"
        },
        "id": "73jwHv_YgoTt",
        "outputId": "d00d9fb0-804e-4526-a379-48b1482a8a98"
      },
      "outputs": [
        {
          "output_type": "execute_result",
          "data": {
            "text/plain": [
              "step              0\n",
              "type              0\n",
              "amount            0\n",
              "nameOrig          0\n",
              "oldbalanceOrg     0\n",
              "newbalanceOrig    0\n",
              "nameDest          0\n",
              "oldbalanceDest    0\n",
              "newbalanceDest    0\n",
              "isFraud           0\n",
              "isFlaggedFraud    0\n",
              "dtype: int64"
            ]
          },
          "metadata": {},
          "execution_count": 6
        }
      ],
      "source": [
        "df.isna().sum()"
      ]
    },
    {
      "cell_type": "code",
      "execution_count": 7,
      "metadata": {
        "colab": {
          "base_uri": "https://localhost:8080/",
          "height": 482
        },
        "id": "4omiq7jphQHk",
        "outputId": "9eafc830-e2c1-4443-a25a-3da907d0f022"
      },
      "outputs": [
        {
          "output_type": "execute_result",
          "data": {
            "text/plain": [
              "<Axes: xlabel='isFraud', ylabel='count'>"
            ]
          },
          "metadata": {},
          "execution_count": 7
        },
        {
          "output_type": "display_data",
          "data": {
            "text/plain": [
              "<Figure size 640x480 with 1 Axes>"
            ],
            "image/png": "[encoded data removed]"
          },
          "metadata": {}
        }
      ],
      "source": [
        "import seaborn as sns\n",
        "sns.countplot(x='isFraud',data = df)"
      ]
    },
    {
      "cell_type": "code",
      "execution_count": 8,
      "metadata": {
        "colab": {
          "base_uri": "https://localhost:8080/"
        },
        "id": "I11sfk22rr1x",
        "outputId": "47692d43-dccf-4f3b-cdab-0c6a9681c3b2"
      },
      "outputs": [
        {
          "output_type": "stream",
          "name": "stdout",
          "text": [
            "total number of non fraudulent transactions :: 6354407\n",
            "total number of fraudulent transactions :: 8213\n",
            "percentage of non fraudulent transactions :: 99.87091795518198\n",
            "percentage of fraudulent transactions :: 0.12908204481801522\n"
          ]
        }
      ],
      "source": [
        "df['isFraud'].value_counts()\n",
        "print('total number of non fraudulent transactions ::',df['isFraud'].value_counts()[0])\n",
        "print('total number of fraudulent transactions ::',df['isFraud'].value_counts()[1])\n",
        "print('percentage of non fraudulent transactions ::',df['isFraud'].value_counts()[0]/len(df)*100)\n",
        "print('percentage of fraudulent transactions ::',df['isFraud'].value_counts()[1]/len(df)*100)"
      ]
    },
    {
      "cell_type": "markdown",
      "metadata": {
        "id": "NgPvMqNPs4uR"
      },
      "source": [
        "Observation : dataset is fully imbalanced as 99.87% of transactions are legit."
      ]
    },
    {
      "cell_type": "code",
      "execution_count": 9,
      "metadata": {
        "colab": {
          "base_uri": "https://localhost:8080/",
          "height": 482
        },
        "id": "3KWq7CVAiv8z",
        "outputId": "44415bbe-2f3d-4475-8322-75020af9408e"
      },
      "outputs": [
        {
          "output_type": "execute_result",
          "data": {
            "text/plain": [
              "<Axes: xlabel='isFlaggedFraud', ylabel='count'>"
            ]
          },
          "metadata": {},
          "execution_count": 9
        },
        {
          "output_type": "display_data",
          "data": {
            "text/plain": [
              "<Figure size 640x480 with 1 Axes>"
            ],
            "image/png": "[encoded data removed]"
          },
          "metadata": {}
        }
      ],
      "source": [
        "sns.countplot(x='isFlaggedFraud',data = df)"
      ]
    },
    {
      "cell_type": "code",
      "execution_count": 10,
      "metadata": {
        "colab": {
          "base_uri": "https://localhost:8080/"
        },
        "id": "UXKgRe-ZizLM",
        "outputId": "e23c68f2-adbb-4c9d-dac4-00057a86b8bd"
      },
      "outputs": [
        {
          "output_type": "execute_result",
          "data": {
            "text/plain": [
              "0    6362604\n",
              "1         16\n",
              "Name: isFlaggedFraud, dtype: int64"
            ]
          },
          "metadata": {},
          "execution_count": 10
        }
      ],
      "source": [
        "df['isFlaggedFraud'].value_counts()"
      ]
    },
    {
      "cell_type": "code",
      "execution_count": 11,
      "metadata": {
        "colab": {
          "base_uri": "https://localhost:8080/",
          "height": 466
        },
        "id": "AGHoDC8ui7No",
        "outputId": "f096aa98-695f-4eb9-ab15-16d8bc92bab4"
      },
      "outputs": [
        {
          "output_type": "execute_result",
          "data": {
            "text/plain": [
              "<Axes: xlabel='amount', ylabel='isFraud'>"
            ]
          },
          "metadata": {},
          "execution_count": 11
        },
        {
          "output_type": "display_data",
          "data": {
            "text/plain": [
              "<Figure size 640x480 with 1 Axes>"
            ],
            "image/png": "[encoded data removed]"
          },
          "metadata": {}
        }
      ],
      "source": [
        "sns.boxplot(data=df, x=\"amount\", y=\"isFraud\")"
      ]
    },
    {
      "cell_type": "code",
      "execution_count": 11,
      "metadata": {
        "id": "KkqJX2GKpADk"
      },
      "outputs": [],
      "source": []
    },
    {
      "cell_type": "code",
      "execution_count": 12,
      "metadata": {
        "colab": {
          "base_uri": "https://localhost:8080/",
          "height": 466
        },
        "id": "NirDOh6ekWqW",
        "outputId": "78808d5c-52e9-498b-a515-67749392ea13"
      },
      "outputs": [
        {
          "output_type": "execute_result",
          "data": {
            "text/plain": [
              "<Axes: xlabel='amount', ylabel='isFlaggedFraud'>"
            ]
          },
          "metadata": {},
          "execution_count": 12
        },
        {
          "output_type": "display_data",
          "data": {
            "text/plain": [
              "<Figure size 640x480 with 1 Axes>"
            ],
            "image/png": "[encoded data removed]"
          },
          "metadata": {}
        }
      ],
      "source": [
        "sns.boxplot(data=df, x=\"amount\", y=\"isFlaggedFraud\")"
      ]
    },
    {
      "cell_type": "code",
      "execution_count": 13,
      "metadata": {
        "colab": {
          "base_uri": "https://localhost:8080/",
          "height": 466
        },
        "id": "LhwZH1SqlcET",
        "outputId": "23553932-1601-496a-ce6c-a85ccdbea37f"
      },
      "outputs": [
        {
          "output_type": "execute_result",
          "data": {
            "text/plain": [
              "<Axes: xlabel='oldbalanceOrg'>"
            ]
          },
          "metadata": {},
          "execution_count": 13
        },
        {
          "output_type": "display_data",
          "data": {
            "text/plain": [
              "<Figure size 640x480 with 1 Axes>"
            ],
            "image/png": "[encoded data removed]"
          },
          "metadata": {}
        }
      ],
      "source": [
        "sns.boxplot(data=df,x='oldbalanceOrg')"
      ]
    },
    {
      "cell_type": "code",
      "execution_count": 14,
      "metadata": {
        "colab": {
          "base_uri": "https://localhost:8080/",
          "height": 466
        },
        "id": "Ct_J61urlk14",
        "outputId": "c8ffb087-73fd-472e-ac2e-417507f0e899"
      },
      "outputs": [
        {
          "output_type": "execute_result",
          "data": {
            "text/plain": [
              "<Axes: xlabel='newbalanceOrig'>"
            ]
          },
          "metadata": {},
          "execution_count": 14
        },
        {
          "output_type": "display_data",
          "data": {
            "text/plain": [
              "<Figure size 640x480 with 1 Axes>"
            ],
            "image/png": "[encoded data removed]"
          },
          "metadata": {}
        }
      ],
      "source": [
        "sns.boxplot(data=df,x='newbalanceOrig')"
      ]
    },
    {
      "cell_type": "code",
      "execution_count": 15,
      "metadata": {
        "colab": {
          "base_uri": "https://localhost:8080/",
          "height": 466
        },
        "id": "hwiRO8Fxlk4v",
        "outputId": "f18dc05a-17a7-47a4-8048-98bd3d23fc51"
      },
      "outputs": [
        {
          "output_type": "execute_result",
          "data": {
            "text/plain": [
              "<Axes: xlabel='oldbalanceDest'>"
            ]
          },
          "metadata": {},
          "execution_count": 15
        },
        {
          "output_type": "display_data",
          "data": {
            "text/plain": [
              "<Figure size 640x480 with 1 Axes>"
            ],
            "image/png": "[encoded data removed]"
          },
          "metadata": {}
        }
      ],
      "source": [
        "sns.boxplot(data=df,x='oldbalanceDest')"
      ]
    },
    {
      "cell_type": "code",
      "execution_count": 16,
      "metadata": {
        "colab": {
          "base_uri": "https://localhost:8080/",
          "height": 466
        },
        "id": "TzW6TKo1llBN",
        "outputId": "dea2278d-0f10-4987-f2ba-9a9221e0ffdd"
      },
      "outputs": [
        {
          "output_type": "execute_result",
          "data": {
            "text/plain": [
              "<Axes: xlabel='newbalanceDest'>"
            ]
          },
          "metadata": {},
          "execution_count": 16
        },
        {
          "output_type": "display_data",
          "data": {
            "text/plain": [
              "<Figure size 640x480 with 1 Axes>"
            ],
            "image/png": "[encoded data removed]"
          },
          "metadata": {}
        }
      ],
      "source": [
        "sns.boxplot(data=df,x='newbalanceDest')"
      ]
    },
    {
      "cell_type": "code",
      "execution_count": 17,
      "metadata": {
        "colab": {
          "base_uri": "https://localhost:8080/",
          "height": 482
        },
        "id": "x3_OmaFymAZ3",
        "outputId": "0d691e7a-dea0-42cf-ce9f-dc1bfc3f3d04"
      },
      "outputs": [
        {
          "output_type": "execute_result",
          "data": {
            "text/plain": [
              "<Axes: xlabel='type', ylabel='count'>"
            ]
          },
          "metadata": {},
          "execution_count": 17
        },
        {
          "output_type": "display_data",
          "data": {
            "text/plain": [
              "<Figure size 640x480 with 1 Axes>"
            ],
            "image/png": "[encoded data removed]"
          },
          "metadata": {}
        }
      ],
      "source": [
        "sns.countplot(x='type',data =df)"
      ]
    },
    {
      "cell_type": "code",
      "execution_count": 18,
      "metadata": {
        "colab": {
          "base_uri": "https://localhost:8080/"
        },
        "id": "h30PfzEXkovk",
        "outputId": "55ead5c1-b28c-403b-8a1f-aade13291598"
      },
      "outputs": [
        {
          "output_type": "execute_result",
          "data": {
            "text/plain": [
              "19     51352\n",
              "18     49579\n",
              "187    49083\n",
              "235    47491\n",
              "307    46968\n",
              "       ...  \n",
              "432        4\n",
              "706        4\n",
              "693        4\n",
              "112        2\n",
              "662        2\n",
              "Name: step, Length: 743, dtype: int64"
            ]
          },
          "metadata": {},
          "execution_count": 18
        }
      ],
      "source": [
        "df['step'].value_counts()"
      ]
    },
    {
      "cell_type": "code",
      "execution_count": 19,
      "metadata": {
        "id": "F73dv5c8lVED"
      },
      "outputs": [],
      "source": [
        "import numpy as np"
      ]
    },
    {
      "cell_type": "code",
      "execution_count": 20,
      "metadata": {
        "id": "yR7ntmanpI62"
      },
      "outputs": [],
      "source": [
        "def outlier_remover(dataframe, columns_name):\n",
        "  q3, q1 = np.percentile(dataframe[columns_name], [75 ,25])\n",
        "  iqr = q3 - q1\n",
        "  lower_range = q1-1.5*iqr\n",
        "  upper_range = q3+1.5*iqr\n",
        "  dataframe = dataframe[(dataframe[columns_name]<upper_range)&(dataframe[columns_name]>lower_range)]\n",
        "  return dataframe\n"
      ]
    },
    {
      "cell_type": "code",
      "execution_count": 21,
      "metadata": {
        "colab": {
          "base_uri": "https://localhost:8080/"
        },
        "id": "wuYITKM1oWKV",
        "outputId": "f8e7d0e1-0bbf-44db-8d94-7903b990b1a9"
      },
      "outputs": [
        {
          "output_type": "stream",
          "name": "stdout",
          "text": [
            "0    6020183\n",
            "1       4359\n",
            "Name: isFraud, dtype: int64\n",
            "0    5262780\n",
            "1       4098\n",
            "Name: isFraud, dtype: int64\n",
            "0    4837551\n",
            "1       3942\n",
            "Name: isFraud, dtype: int64\n",
            "0    4050381\n",
            "1       2902\n",
            "Name: isFraud, dtype: int64\n",
            "0    3347553\n",
            "1       2902\n",
            "Name: isFraud, dtype: int64\n"
          ]
        },
        {
          "output_type": "execute_result",
          "data": {
            "text/plain": [
              "(3350455, 11)"
            ]
          },
          "metadata": {},
          "execution_count": 21
        }
      ],
      "source": [
        "df_amt_rm_ot = outlier_remover(df, 'amount')\n",
        "print(df_amt_rm_ot.isFraud.value_counts())\n",
        "\n",
        "df_obd_rm_ot = outlier_remover(df_amt_rm_ot, 'oldbalanceDest')\n",
        "print(df_obd_rm_ot.isFraud.value_counts())\n",
        "\n",
        "df_nbd_rm_ot = outlier_remover(df_obd_rm_ot, 'newbalanceDest')\n",
        "print(df_nbd_rm_ot.isFraud.value_counts())\n",
        "\n",
        "df_obo_rm_ot = outlier_remover(df_nbd_rm_ot, 'oldbalanceOrg')\n",
        "print(df_obo_rm_ot.isFraud.value_counts())\n",
        "\n",
        "df_nbo_rm_ot = outlier_remover(df_obo_rm_ot, 'newbalanceOrig')\n",
        "print(df_nbo_rm_ot.isFraud.value_counts())\n",
        "df_nbo_rm_ot.shape\n"
      ]
    },
    {
      "cell_type": "markdown",
      "metadata": {
        "id": "3wfSKnXBPGz0"
      },
      "source": [
        "Observation : after removing the outliers in the numerical columns we have got less fraudulant transactions. As fraudulant transactions are out of the distribution with respect to legit transactions in most the cases.\n",
        "So taking only main dataframe for further analysis"
      ]
    },
    {
      "cell_type": "code",
      "execution_count": 22,
      "metadata": {
        "colab": {
          "base_uri": "https://localhost:8080/",
          "height": 466
        },
        "id": "cbIhV_qqpbAg",
        "outputId": "acf0a844-8361-45e5-c775-94ee7e2c56fc"
      },
      "outputs": [
        {
          "output_type": "execute_result",
          "data": {
            "text/plain": [
              "<Axes: xlabel='oldbalanceDest'>"
            ]
          },
          "metadata": {},
          "execution_count": 22
        },
        {
          "output_type": "display_data",
          "data": {
            "text/plain": [
              "<Figure size 640x480 with 1 Axes>"
            ],
            "image/png": "[encoded data removed]"
          },
          "metadata": {}
        }
      ],
      "source": [
        "sns.boxplot(data=df_nbo_rm_ot,x='oldbalanceDest')"
      ]
    },
    {
      "cell_type": "code",
      "execution_count": 23,
      "metadata": {
        "colab": {
          "base_uri": "https://localhost:8080/",
          "height": 250
        },
        "id": "yqr-Wt5jsDm0",
        "outputId": "587a0705-69cb-42cc-9980-4697a91e4778"
      },
      "outputs": [
        {
          "output_type": "execute_result",
          "data": {
            "text/plain": [
              "   step     type    amount     nameOrig  oldbalanceOrg  newbalanceOrig  \\\n",
              "0     1  PAYMENT   9839.64  C1231006815       170136.0       160296.36   \n",
              "1     1  PAYMENT   1864.28  C1666544295        21249.0        19384.72   \n",
              "4     1  PAYMENT  11668.14  C2048537720        41554.0        29885.86   \n",
              "5     1  PAYMENT   7817.71    C90045638        53860.0        46042.29   \n",
              "6     1  PAYMENT   7107.77   C154988899       183195.0       176087.23   \n",
              "\n",
              "      nameDest  oldbalanceDest  newbalanceDest isFraud isFlaggedFraud  \n",
              "0  M1979787155             0.0             0.0       0              0  \n",
              "1  M2044282225             0.0             0.0       0              0  \n",
              "4  M1230701703             0.0             0.0       0              0  \n",
              "5   M573487274             0.0             0.0       0              0  \n",
              "6   M408069119             0.0             0.0       0              0  "
            ],
            "text/html": [
              "\n",
              "  <div id=\"df-17382837-cfab-425c-86bb-10dc1f5995c6\">\n",
              "    <div class=\"colab-df-container\">\n",
              "      <div>\n",
              "<style scoped>\n",
              "    .dataframe tbody tr th:only-of-type {\n",
              "        vertical-align: middle;\n",
              "    }\n",
              "\n",
              "    .dataframe tbody tr th {\n",
              "        vertical-align: top;\n",
              "    }\n",
              "\n",
              "    .dataframe thead th {\n",
              "        text-align: right;\n",
              "    }\n",
              "</style>\n",
              "<table border=\"1\" class=\"dataframe\">\n",
              "  <thead>\n",
              "    <tr style=\"text-align: right;\">\n",
              "      <th></th>\n",
              "      <th>step</th>\n",
              "      <th>type</th>\n",
              "      <th>amount</th>\n",
              "      <th>nameOrig</th>\n",
              "      <th>oldbalanceOrg</th>\n",
              "      <th>newbalanceOrig</th>\n",
              "      <th>nameDest</th>\n",
              "      <th>oldbalanceDest</th>\n",
              "      <th>newbalanceDest</th>\n",
              "      <th>isFraud</th>\n",
              "      <th>isFlaggedFraud</th>\n",
              "    </tr>\n",
              "  </thead>\n",
              "  <tbody>\n",
              "    <tr>\n",
              "      <th>0</th>\n",
              "      <td>1</td>\n",
              "      <td>PAYMENT</td>\n",
              "      <td>9839.64</td>\n",
              "      <td>C1231006815</td>\n",
              "      <td>170136.0</td>\n",
              "      <td>160296.36</td>\n",
              "      <td>M1979787155</td>\n",
              "      <td>0.0</td>\n",
              "      <td>0.0</td>\n",
              "      <td>0</td>\n",
              "      <td>0</td>\n",
              "    </tr>\n",
              "    <tr>\n",
              "      <th>1</th>\n",
              "      <td>1</td>\n",
              "      <td>PAYMENT</td>\n",
              "      <td>1864.28</td>\n",
              "      <td>C1666544295</td>\n",
              "      <td>21249.0</td>\n",
              "      <td>19384.72</td>\n",
              "      <td>M2044282225</td>\n",
              "      <td>0.0</td>\n",
              "      <td>0.0</td>\n",
              "      <td>0</td>\n",
              "      <td>0</td>\n",
              "    </tr>\n",
              "    <tr>\n",
              "      <th>4</th>\n",
              "      <td>1</td>\n",
              "      <td>PAYMENT</td>\n",
              "      <td>11668.14</td>\n",
              "      <td>C2048537720</td>\n",
              "      <td>41554.0</td>\n",
              "      <td>29885.86</td>\n",
              "      <td>M1230701703</td>\n",
              "      <td>0.0</td>\n",
              "      <td>0.0</td>\n",
              "      <td>0</td>\n",
              "      <td>0</td>\n",
              "    </tr>\n",
              "    <tr>\n",
              "      <th>5</th>\n",
              "      <td>1</td>\n",
              "      <td>PAYMENT</td>\n",
              "      <td>7817.71</td>\n",
              "      <td>C90045638</td>\n",
              "      <td>53860.0</td>\n",
              "      <td>46042.29</td>\n",
              "      <td>M573487274</td>\n",
              "      <td>0.0</td>\n",
              "      <td>0.0</td>\n",
              "      <td>0</td>\n",
              "      <td>0</td>\n",
              "    </tr>\n",
              "    <tr>\n",
              "      <th>6</th>\n",
              "      <td>1</td>\n",
              "      <td>PAYMENT</td>\n",
              "      <td>7107.77</td>\n",
              "      <td>C154988899</td>\n",
              "      <td>183195.0</td>\n",
              "      <td>176087.23</td>\n",
              "      <td>M408069119</td>\n",
              "      <td>0.0</td>\n",
              "      <td>0.0</td>\n",
              "      <td>0</td>\n",
              "      <td>0</td>\n",
              "    </tr>\n",
              "  </tbody>\n",
              "</table>\n",
              "</div>\n",
              "      <button class=\"colab-df-convert\" onclick=\"convertToInteractive('df-17382837-cfab-425c-86bb-10dc1f5995c6')\"\n",
              "              title=\"Convert this dataframe to an interactive table.\"\n",
              "              style=\"display:none;\">\n",
              "        \n",
              "  <svg xmlns=\"http://www.w3.org/2000/svg\" height=\"24px\"viewBox=\"0 0 24 24\"\n",
              "       width=\"24px\">\n",
              "    <path d=\"M0 0h24v24H0V0z\" fill=\"none\"/>\n",
              "    <path d=\"M18.56 5.44l.94 2.06.94-2.06 2.06-.94-2.06-.94-.94-2.06-.94 2.06-2.06.94zm-11 1L8.5 8.5l.94-2.06 2.06-.94-2.06-.94L8.5 2.5l-.94 2.06-2.06.94zm10 10l.94 2.06.94-2.06 2.06-.94-2.06-.94-.94-2.06-.94 2.06-2.06.94z\"/><path d=\"M17.41 7.96l-1.37-1.37c-.4-.4-.92-.59-1.43-.59-.52 0-1.04.2-1.43.59L10.3 9.45l-7.72 7.72c-.78.78-.78 2.05 0 2.83L4 21.41c.39.39.9.59 1.41.59.51 0 1.02-.2 1.41-.59l7.78-7.78 2.81-2.81c.8-.78.8-2.07 0-2.86zM5.41 20L4 18.59l7.72-7.72 1.47 1.35L5.41 20z\"/>\n",
              "  </svg>\n",
              "      </button>\n",
              "      \n",
              "  <style>\n",
              "    .colab-df-container {\n",
              "      display:flex;\n",
              "      flex-wrap:wrap;\n",
              "      gap: 12px;\n",
              "    }\n",
              "\n",
              "    .colab-df-convert {\n",
              "      background-color: #E8F0FE;\n",
              "      border: none;\n",
              "      border-radius: 50%;\n",
              "      cursor: pointer;\n",
              "      display: none;\n",
              "      fill: #1967D2;\n",
              "      height: 32px;\n",
              "      padding: 0 0 0 0;\n",
              "      width: 32px;\n",
              "    }\n",
              "\n",
              "    .colab-df-convert:hover {\n",
              "      background-color: #E2EBFA;\n",
              "      box-shadow: 0px 1px 2px rgba(60, 64, 67, 0.3), 0px 1px 3px 1px rgba(60, 64, 67, 0.15);\n",
              "      fill: #174EA6;\n",
              "    }\n",
              "\n",
              "    [theme=dark] .colab-df-convert {\n",
              "      background-color: #3B4455;\n",
              "      fill: #D2E3FC;\n",
              "    }\n",
              "\n",
              "    [theme=dark] .colab-df-convert:hover {\n",
              "      background-color: #434B5C;\n",
              "      box-shadow: 0px 1px 3px 1px rgba(0, 0, 0, 0.15);\n",
              "      filter: drop-shadow(0px 1px 2px rgba(0, 0, 0, 0.3));\n",
              "      fill: #FFFFFF;\n",
              "    }\n",
              "  </style>\n",
              "\n",
              "      <script>\n",
              "        const buttonEl =\n",
              "          document.querySelector('#df-17382837-cfab-425c-86bb-10dc1f5995c6 button.colab-df-convert');\n",
              "        buttonEl.style.display =\n",
              "          google.colab.kernel.accessAllowed ? 'block' : 'none';\n",
              "\n",
              "        async function convertToInteractive(key) {\n",
              "          const element = document.querySelector('#df-17382837-cfab-425c-86bb-10dc1f5995c6');\n",
              "          const dataTable =\n",
              "            await google.colab.kernel.invokeFunction('convertToInteractive',\n",
              "                                                     [key], {});\n",
              "          if (!dataTable) return;\n",
              "\n",
              "          const docLinkHtml = 'Like what you see? Visit the ' +\n",
              "            '<a target=\"_blank\" href=https://colab.research.google.com/notebooks/data_table.ipynb>data table notebook</a>'\n",
              "            + ' to learn more about interactive tables.';\n",
              "          element.innerHTML = '';\n",
              "          dataTable['output_type'] = 'display_data';\n",
              "          await google.colab.output.renderOutput(dataTable, element);\n",
              "          const docLink = document.createElement('div');\n",
              "          docLink.innerHTML = docLinkHtml;\n",
              "          element.appendChild(docLink);\n",
              "        }\n",
              "      </script>\n",
              "    </div>\n",
              "  </div>\n",
              "  "
            ]
          },
          "metadata": {},
          "execution_count": 23
        }
      ],
      "source": [
        "df_merchants = df[df['nameDest'].str.contains('M')]\n",
        "df_merchants.head()"
      ]
    },
    {
      "cell_type": "code",
      "execution_count": 24,
      "metadata": {
        "colab": {
          "base_uri": "https://localhost:8080/"
        },
        "id": "Mius4TjC1Yy5",
        "outputId": "f97d92d0-ad79-44f2-ff3a-22d9f1e41cdd"
      },
      "outputs": [
        {
          "output_type": "execute_result",
          "data": {
            "text/plain": [
              "0    2151495\n",
              "Name: isFraud, dtype: int64"
            ]
          },
          "metadata": {},
          "execution_count": 24
        }
      ],
      "source": [
        "df_merchants.isFraud.value_counts()"
      ]
    },
    {
      "cell_type": "markdown",
      "metadata": {
        "id": "texMFUlw1iy9"
      },
      "source": [
        "Observation : no transaction destined/recipient to merchant is fraud so we can remove this data when doing analysis or model building to classify if a transaction is fraud or not. Will take only customer data for analysis."
      ]
    },
    {
      "cell_type": "code",
      "execution_count": 25,
      "metadata": {
        "colab": {
          "base_uri": "https://localhost:8080/",
          "height": 482
        },
        "id": "0twf4iSsXWgq",
        "outputId": "4fbc953f-e9ad-4b42-c451-966fd7130100"
      },
      "outputs": [
        {
          "output_type": "execute_result",
          "data": {
            "text/plain": [
              "<Axes: xlabel='type', ylabel='count'>"
            ]
          },
          "metadata": {},
          "execution_count": 25
        },
        {
          "output_type": "display_data",
          "data": {
            "text/plain": [
              "<Figure size 640x480 with 1 Axes>"
            ],
            "image/png": "[encoded data removed]"
          },
          "metadata": {}
        }
      ],
      "source": [
        "sns.countplot(x='type',data =df_merchants)"
      ]
    },
    {
      "cell_type": "markdown",
      "metadata": {
        "id": "m6H76kIAXnEp"
      },
      "source": [
        "Observation : All the transactions made by merchants are payment only"
      ]
    },
    {
      "cell_type": "code",
      "execution_count": 26,
      "metadata": {
        "id": "cmKq8lVISGO2"
      },
      "outputs": [],
      "source": [
        "df_customers=df[~df['nameDest'].str.contains('M')]"
      ]
    },
    {
      "cell_type": "code",
      "execution_count": 27,
      "metadata": {
        "colab": {
          "base_uri": "https://localhost:8080/",
          "height": 741
        },
        "id": "h0iD8S7zue_I",
        "outputId": "c80f58e9-7bc7-46fc-919d-46b1bfece5d3"
      },
      "outputs": [
        {
          "output_type": "execute_result",
          "data": {
            "text/plain": [
              "         step      type      amount     nameOrig  oldbalanceOrg  \\\n",
              "5573784   393  CASH_OUT   609788.50  C1158666251           0.00   \n",
              "3642573   275  CASH_OUT   185441.69   C628495592       11687.00   \n",
              "1982760   179  TRANSFER   694640.63   C104214941       30858.00   \n",
              "1623945   157  TRANSFER   460113.76    C28087812       84295.00   \n",
              "3155104   237  TRANSFER  1460079.95   C527676159           0.00   \n",
              "4158487   304  CASH_OUT   368542.09   C762674388       11285.00   \n",
              "4964020   351  CASH_OUT     5729.06   C777768412       31596.00   \n",
              "5010659   353  CASH_OUT   177665.68   C999483714       11797.00   \n",
              "5009659   353  CASH_OUT    81382.07   C139949597           0.00   \n",
              "2455309   203   CASH_IN   196746.07   C913187903     1900462.54   \n",
              "2130127   183  TRANSFER     7333.45   C654133971           0.00   \n",
              "5170914   358   CASH_IN   394589.91   C851618944     3167178.14   \n",
              "4482862   324   CASH_IN   243432.53  C1904422166       80200.47   \n",
              "5356369   375  CASH_OUT   367829.92  C1350858173           0.00   \n",
              "107460     10   CASH_IN   155329.08  C1901774035       50480.21   \n",
              "1900718   165  CASH_OUT    52699.78    C91776650           0.00   \n",
              "6287379   661   CASH_IN   208335.96  C1895698474      565867.70   \n",
              "4493290   325   CASH_IN   147037.14  C1038347567    11174072.85   \n",
              "4196824   305  CASH_OUT   225698.59   C784587573       10975.00   \n",
              "165055     12  CASH_OUT    57755.46   C767118495           0.00   \n",
              "\n",
              "         newbalanceOrig     nameDest  oldbalanceDest  newbalanceDest isFraud  \\\n",
              "5573784            0.00   C871392839       705564.98      1315353.48       0   \n",
              "3642573            0.00   C275847203      3158487.82      3343929.52       0   \n",
              "1982760            0.00  C1151830195       141218.27       835858.90       0   \n",
              "1623945            0.00  C1164807049        61644.79       521758.55       0   \n",
              "3155104            0.00  C1365285640      2334608.33      3794688.28       0   \n",
              "4158487            0.00  C1114689792      1960818.19      2329360.28       0   \n",
              "4964020        25866.94    C84144534         3069.09         8798.15       0   \n",
              "5010659            0.00   C339900677       351849.19       529514.87       0   \n",
              "5009659            0.00  C1228420781       156459.89       237841.96       0   \n",
              "2455309      2097208.61   C948079082       715797.74       758375.36       0   \n",
              "2130127            0.00   C157111069       153823.24       161156.69       0   \n",
              "5170914      3561768.05   C283083073      3409256.87      3014666.96       0   \n",
              "4482862       323633.00  C1694984127       652139.12       408706.59       0   \n",
              "5356369            0.00  C1162963200      4407268.42      4775098.34       0   \n",
              "107460        205809.29  C1544764308            0.00            0.00       0   \n",
              "1900718            0.00  C1246600035       149867.55       202567.34       0   \n",
              "6287379       774203.66   C542234606       296678.03        88342.07       0   \n",
              "4493290     11321109.99   C827637635       992991.62       845954.47       0   \n",
              "4196824            0.00  C1481881665            0.00       225698.59       0   \n",
              "165055             0.00  C1297804967      1002775.77       639249.64       0   \n",
              "\n",
              "        isFlaggedFraud  \n",
              "5573784              0  \n",
              "3642573              0  \n",
              "1982760              0  \n",
              "1623945              0  \n",
              "3155104              0  \n",
              "4158487              0  \n",
              "4964020              0  \n",
              "5010659              0  \n",
              "5009659              0  \n",
              "2455309              0  \n",
              "2130127              0  \n",
              "5170914              0  \n",
              "4482862              0  \n",
              "5356369              0  \n",
              "107460               0  \n",
              "1900718              0  \n",
              "6287379              0  \n",
              "4493290              0  \n",
              "4196824              0  \n",
              "165055               0  "
            ],
            "text/html": [
              "\n",
              "  <div id=\"df-fb3935d0-bb3c-4671-b341-a7e5c4e6362b\">\n",
              "    <div class=\"colab-df-container\">\n",
              "      <div>\n",
              "<style scoped>\n",
              "    .dataframe tbody tr th:only-of-type {\n",
              "        vertical-align: middle;\n",
              "    }\n",
              "\n",
              "    .dataframe tbody tr th {\n",
              "        vertical-align: top;\n",
              "    }\n",
              "\n",
              "    .dataframe thead th {\n",
              "        text-align: right;\n",
              "    }\n",
              "</style>\n",
              "<table border=\"1\" class=\"dataframe\">\n",
              "  <thead>\n",
              "    <tr style=\"text-align: right;\">\n",
              "      <th></th>\n",
              "      <th>step</th>\n",
              "      <th>type</th>\n",
              "      <th>amount</th>\n",
              "      <th>nameOrig</th>\n",
              "      <th>oldbalanceOrg</th>\n",
              "      <th>newbalanceOrig</th>\n",
              "      <th>nameDest</th>\n",
              "      <th>oldbalanceDest</th>\n",
              "      <th>newbalanceDest</th>\n",
              "      <th>isFraud</th>\n",
              "      <th>isFlaggedFraud</th>\n",
              "    </tr>\n",
              "  </thead>\n",
              "  <tbody>\n",
              "    <tr>\n",
              "      <th>5573784</th>\n",
              "      <td>393</td>\n",
              "      <td>CASH_OUT</td>\n",
              "      <td>609788.50</td>\n",
              "      <td>C1158666251</td>\n",
              "      <td>0.00</td>\n",
              "      <td>0.00</td>\n",
              "      <td>C871392839</td>\n",
              "      <td>705564.98</td>\n",
              "      <td>1315353.48</td>\n",
              "      <td>0</td>\n",
              "      <td>0</td>\n",
              "    </tr>\n",
              "    <tr>\n",
              "      <th>3642573</th>\n",
              "      <td>275</td>\n",
              "      <td>CASH_OUT</td>\n",
              "      <td>185441.69</td>\n",
              "      <td>C628495592</td>\n",
              "      <td>11687.00</td>\n",
              "      <td>0.00</td>\n",
              "      <td>C275847203</td>\n",
              "      <td>3158487.82</td>\n",
              "      <td>3343929.52</td>\n",
              "      <td>0</td>\n",
              "      <td>0</td>\n",
              "    </tr>\n",
              "    <tr>\n",
              "      <th>1982760</th>\n",
              "      <td>179</td>\n",
              "      <td>TRANSFER</td>\n",
              "      <td>694640.63</td>\n",
              "      <td>C104214941</td>\n",
              "      <td>30858.00</td>\n",
              "      <td>0.00</td>\n",
              "      <td>C1151830195</td>\n",
              "      <td>141218.27</td>\n",
              "      <td>835858.90</td>\n",
              "      <td>0</td>\n",
              "      <td>0</td>\n",
              "    </tr>\n",
              "    <tr>\n",
              "      <th>1623945</th>\n",
              "      <td>157</td>\n",
              "      <td>TRANSFER</td>\n",
              "      <td>460113.76</td>\n",
              "      <td>C28087812</td>\n",
              "      <td>84295.00</td>\n",
              "      <td>0.00</td>\n",
              "      <td>C1164807049</td>\n",
              "      <td>61644.79</td>\n",
              "      <td>521758.55</td>\n",
              "      <td>0</td>\n",
              "      <td>0</td>\n",
              "    </tr>\n",
              "    <tr>\n",
              "      <th>3155104</th>\n",
              "      <td>237</td>\n",
              "      <td>TRANSFER</td>\n",
              "      <td>1460079.95</td>\n",
              "      <td>C527676159</td>\n",
              "      <td>0.00</td>\n",
              "      <td>0.00</td>\n",
              "      <td>C1365285640</td>\n",
              "      <td>2334608.33</td>\n",
              "      <td>3794688.28</td>\n",
              "      <td>0</td>\n",
              "      <td>0</td>\n",
              "    </tr>\n",
              "    <tr>\n",
              "      <th>4158487</th>\n",
              "      <td>304</td>\n",
              "      <td>CASH_OUT</td>\n",
              "      <td>368542.09</td>\n",
              "      <td>C762674388</td>\n",
              "      <td>11285.00</td>\n",
              "      <td>0.00</td>\n",
              "      <td>C1114689792</td>\n",
              "      <td>1960818.19</td>\n",
              "      <td>2329360.28</td>\n",
              "      <td>0</td>\n",
              "      <td>0</td>\n",
              "    </tr>\n",
              "    <tr>\n",
              "      <th>4964020</th>\n",
              "      <td>351</td>\n",
              "      <td>CASH_OUT</td>\n",
              "      <td>5729.06</td>\n",
              "      <td>C777768412</td>\n",
              "      <td>31596.00</td>\n",
              "      <td>25866.94</td>\n",
              "      <td>C84144534</td>\n",
              "      <td>3069.09</td>\n",
              "      <td>8798.15</td>\n",
              "      <td>0</td>\n",
              "      <td>0</td>\n",
              "    </tr>\n",
              "    <tr>\n",
              "      <th>5010659</th>\n",
              "      <td>353</td>\n",
              "      <td>CASH_OUT</td>\n",
              "      <td>177665.68</td>\n",
              "      <td>C999483714</td>\n",
              "      <td>11797.00</td>\n",
              "      <td>0.00</td>\n",
              "      <td>C339900677</td>\n",
              "      <td>351849.19</td>\n",
              "      <td>529514.87</td>\n",
              "      <td>0</td>\n",
              "      <td>0</td>\n",
              "    </tr>\n",
              "    <tr>\n",
              "      <th>5009659</th>\n",
              "      <td>353</td>\n",
              "      <td>CASH_OUT</td>\n",
              "      <td>81382.07</td>\n",
              "      <td>C139949597</td>\n",
              "      <td>0.00</td>\n",
              "      <td>0.00</td>\n",
              "      <td>C1228420781</td>\n",
              "      <td>156459.89</td>\n",
              "      <td>237841.96</td>\n",
              "      <td>0</td>\n",
              "      <td>0</td>\n",
              "    </tr>\n",
              "    <tr>\n",
              "      <th>2455309</th>\n",
              "      <td>203</td>\n",
              "      <td>CASH_IN</td>\n",
              "      <td>196746.07</td>\n",
              "      <td>C913187903</td>\n",
              "      <td>1900462.54</td>\n",
              "      <td>2097208.61</td>\n",
              "      <td>C948079082</td>\n",
              "      <td>715797.74</td>\n",
              "      <td>758375.36</td>\n",
              "      <td>0</td>\n",
              "      <td>0</td>\n",
              "    </tr>\n",
              "    <tr>\n",
              "      <th>2130127</th>\n",
              "      <td>183</td>\n",
              "      <td>TRANSFER</td>\n",
              "      <td>7333.45</td>\n",
              "      <td>C654133971</td>\n",
              "      <td>0.00</td>\n",
              "      <td>0.00</td>\n",
              "      <td>C157111069</td>\n",
              "      <td>153823.24</td>\n",
              "      <td>161156.69</td>\n",
              "      <td>0</td>\n",
              "      <td>0</td>\n",
              "    </tr>\n",
              "    <tr>\n",
              "      <th>5170914</th>\n",
              "      <td>358</td>\n",
              "      <td>CASH_IN</td>\n",
              "      <td>394589.91</td>\n",
              "      <td>C851618944</td>\n",
              "      <td>3167178.14</td>\n",
              "      <td>3561768.05</td>\n",
              "      <td>C283083073</td>\n",
              "      <td>3409256.87</td>\n",
              "      <td>3014666.96</td>\n",
              "      <td>0</td>\n",
              "      <td>0</td>\n",
              "    </tr>\n",
              "    <tr>\n",
              "      <th>4482862</th>\n",
              "      <td>324</td>\n",
              "      <td>CASH_IN</td>\n",
              "      <td>243432.53</td>\n",
              "      <td>C1904422166</td>\n",
              "      <td>80200.47</td>\n",
              "      <td>323633.00</td>\n",
              "      <td>C1694984127</td>\n",
              "      <td>652139.12</td>\n",
              "      <td>408706.59</td>\n",
              "      <td>0</td>\n",
              "      <td>0</td>\n",
              "    </tr>\n",
              "    <tr>\n",
              "      <th>5356369</th>\n",
              "      <td>375</td>\n",
              "      <td>CASH_OUT</td>\n",
              "      <td>367829.92</td>\n",
              "      <td>C1350858173</td>\n",
              "      <td>0.00</td>\n",
              "      <td>0.00</td>\n",
              "      <td>C1162963200</td>\n",
              "      <td>4407268.42</td>\n",
              "      <td>4775098.34</td>\n",
              "      <td>0</td>\n",
              "      <td>0</td>\n",
              "    </tr>\n",
              "    <tr>\n",
              "      <th>107460</th>\n",
              "      <td>10</td>\n",
              "      <td>CASH_IN</td>\n",
              "      <td>155329.08</td>\n",
              "      <td>C1901774035</td>\n",
              "      <td>50480.21</td>\n",
              "      <td>205809.29</td>\n",
              "      <td>C1544764308</td>\n",
              "      <td>0.00</td>\n",
              "      <td>0.00</td>\n",
              "      <td>0</td>\n",
              "      <td>0</td>\n",
              "    </tr>\n",
              "    <tr>\n",
              "      <th>1900718</th>\n",
              "      <td>165</td>\n",
              "      <td>CASH_OUT</td>\n",
              "      <td>52699.78</td>\n",
              "      <td>C91776650</td>\n",
              "      <td>0.00</td>\n",
              "      <td>0.00</td>\n",
              "      <td>C1246600035</td>\n",
              "      <td>149867.55</td>\n",
              "      <td>202567.34</td>\n",
              "      <td>0</td>\n",
              "      <td>0</td>\n",
              "    </tr>\n",
              "    <tr>\n",
              "      <th>6287379</th>\n",
              "      <td>661</td>\n",
              "      <td>CASH_IN</td>\n",
              "      <td>208335.96</td>\n",
              "      <td>C1895698474</td>\n",
              "      <td>565867.70</td>\n",
              "      <td>774203.66</td>\n",
              "      <td>C542234606</td>\n",
              "      <td>296678.03</td>\n",
              "      <td>88342.07</td>\n",
              "      <td>0</td>\n",
              "      <td>0</td>\n",
              "    </tr>\n",
              "    <tr>\n",
              "      <th>4493290</th>\n",
              "      <td>325</td>\n",
              "      <td>CASH_IN</td>\n",
              "      <td>147037.14</td>\n",
              "      <td>C1038347567</td>\n",
              "      <td>11174072.85</td>\n",
              "      <td>11321109.99</td>\n",
              "      <td>C827637635</td>\n",
              "      <td>992991.62</td>\n",
              "      <td>845954.47</td>\n",
              "      <td>0</td>\n",
              "      <td>0</td>\n",
              "    </tr>\n",
              "    <tr>\n",
              "      <th>4196824</th>\n",
              "      <td>305</td>\n",
              "      <td>CASH_OUT</td>\n",
              "      <td>225698.59</td>\n",
              "      <td>C784587573</td>\n",
              "      <td>10975.00</td>\n",
              "      <td>0.00</td>\n",
              "      <td>C1481881665</td>\n",
              "      <td>0.00</td>\n",
              "      <td>225698.59</td>\n",
              "      <td>0</td>\n",
              "      <td>0</td>\n",
              "    </tr>\n",
              "    <tr>\n",
              "      <th>165055</th>\n",
              "      <td>12</td>\n",
              "      <td>CASH_OUT</td>\n",
              "      <td>57755.46</td>\n",
              "      <td>C767118495</td>\n",
              "      <td>0.00</td>\n",
              "      <td>0.00</td>\n",
              "      <td>C1297804967</td>\n",
              "      <td>1002775.77</td>\n",
              "      <td>639249.64</td>\n",
              "      <td>0</td>\n",
              "      <td>0</td>\n",
              "    </tr>\n",
              "  </tbody>\n",
              "</table>\n",
              "</div>\n",
              "      <button class=\"colab-df-convert\" onclick=\"convertToInteractive('df-fb3935d0-bb3c-4671-b341-a7e5c4e6362b')\"\n",
              "              title=\"Convert this dataframe to an interactive table.\"\n",
              "              style=\"display:none;\">\n",
              "        \n",
              "  <svg xmlns=\"http://www.w3.org/2000/svg\" height=\"24px\"viewBox=\"0 0 24 24\"\n",
              "       width=\"24px\">\n",
              "    <path d=\"M0 0h24v24H0V0z\" fill=\"none\"/>\n",
              "    <path d=\"M18.56 5.44l.94 2.06.94-2.06 2.06-.94-2.06-.94-.94-2.06-.94 2.06-2.06.94zm-11 1L8.5 8.5l.94-2.06 2.06-.94-2.06-.94L8.5 2.5l-.94 2.06-2.06.94zm10 10l.94 2.06.94-2.06 2.06-.94-2.06-.94-.94-2.06-.94 2.06-2.06.94z\"/><path d=\"M17.41 7.96l-1.37-1.37c-.4-.4-.92-.59-1.43-.59-.52 0-1.04.2-1.43.59L10.3 9.45l-7.72 7.72c-.78.78-.78 2.05 0 2.83L4 21.41c.39.39.9.59 1.41.59.51 0 1.02-.2 1.41-.59l7.78-7.78 2.81-2.81c.8-.78.8-2.07 0-2.86zM5.41 20L4 18.59l7.72-7.72 1.47 1.35L5.41 20z\"/>\n",
              "  </svg>\n",
              "      </button>\n",
              "      \n",
              "  <style>\n",
              "    .colab-df-container {\n",
              "      display:flex;\n",
              "      flex-wrap:wrap;\n",
              "      gap: 12px;\n",
              "    }\n",
              "\n",
              "    .colab-df-convert {\n",
              "      background-color: #E8F0FE;\n",
              "      border: none;\n",
              "      border-radius: 50%;\n",
              "      cursor: pointer;\n",
              "      display: none;\n",
              "      fill: #1967D2;\n",
              "      height: 32px;\n",
              "      padding: 0 0 0 0;\n",
              "      width: 32px;\n",
              "    }\n",
              "\n",
              "    .colab-df-convert:hover {\n",
              "      background-color: #E2EBFA;\n",
              "      box-shadow: 0px 1px 2px rgba(60, 64, 67, 0.3), 0px 1px 3px 1px rgba(60, 64, 67, 0.15);\n",
              "      fill: #174EA6;\n",
              "    }\n",
              "\n",
              "    [theme=dark] .colab-df-convert {\n",
              "      background-color: #3B4455;\n",
              "      fill: #D2E3FC;\n",
              "    }\n",
              "\n",
              "    [theme=dark] .colab-df-convert:hover {\n",
              "      background-color: #434B5C;\n",
              "      box-shadow: 0px 1px 3px 1px rgba(0, 0, 0, 0.15);\n",
              "      filter: drop-shadow(0px 1px 2px rgba(0, 0, 0, 0.3));\n",
              "      fill: #FFFFFF;\n",
              "    }\n",
              "  </style>\n",
              "\n",
              "      <script>\n",
              "        const buttonEl =\n",
              "          document.querySelector('#df-fb3935d0-bb3c-4671-b341-a7e5c4e6362b button.colab-df-convert');\n",
              "        buttonEl.style.display =\n",
              "          google.colab.kernel.accessAllowed ? 'block' : 'none';\n",
              "\n",
              "        async function convertToInteractive(key) {\n",
              "          const element = document.querySelector('#df-fb3935d0-bb3c-4671-b341-a7e5c4e6362b');\n",
              "          const dataTable =\n",
              "            await google.colab.kernel.invokeFunction('convertToInteractive',\n",
              "                                                     [key], {});\n",
              "          if (!dataTable) return;\n",
              "\n",
              "          const docLinkHtml = 'Like what you see? Visit the ' +\n",
              "            '<a target=\"_blank\" href=https://colab.research.google.com/notebooks/data_table.ipynb>data table notebook</a>'\n",
              "            + ' to learn more about interactive tables.';\n",
              "          element.innerHTML = '';\n",
              "          dataTable['output_type'] = 'display_data';\n",
              "          await google.colab.output.renderOutput(dataTable, element);\n",
              "          const docLink = document.createElement('div');\n",
              "          docLink.innerHTML = docLinkHtml;\n",
              "          element.appendChild(docLink);\n",
              "        }\n",
              "      </script>\n",
              "    </div>\n",
              "  </div>\n",
              "  "
            ]
          },
          "metadata": {},
          "execution_count": 27
        }
      ],
      "source": [
        "df_customers.sample(20)"
      ]
    },
    {
      "cell_type": "code",
      "execution_count": 28,
      "metadata": {
        "colab": {
          "base_uri": "https://localhost:8080/",
          "height": 855
        },
        "id": "kTynBWgbxLWT",
        "outputId": "1b26468e-e374-474a-c73b-2ecb6d0906dd"
      },
      "outputs": [
        {
          "output_type": "stream",
          "name": "stderr",
          "text": [
            "<ipython-input-28-45f9b45356de>:2: FutureWarning: The default value of numeric_only in DataFrame.corr is deprecated. In a future version, it will default to False. Select only valid columns or specify the value of numeric_only to silence this warning.\n",
            "  corr=df_customers.corr()\n"
          ]
        },
        {
          "output_type": "execute_result",
          "data": {
            "text/plain": [
              "<Axes: >"
            ]
          },
          "metadata": {},
          "execution_count": 28
        },
        {
          "output_type": "display_data",
          "data": {
            "text/plain": [
              "<Figure size 1000x800 with 2 Axes>"
            ],
            "image/png": "[encoded data removed]"
          },
          "metadata": {}
        }
      ],
      "source": [
        "import matplotlib.pyplot as plt\n",
        "corr=df_customers.corr()\n",
        "\n",
        "plt.figure(figsize=(10,8))\n",
        "sns.heatmap(corr,annot=True)"
      ]
    },
    {
      "cell_type": "code",
      "execution_count": 29,
      "metadata": {
        "colab": {
          "base_uri": "https://localhost:8080/"
        },
        "id": "lFmzSFSA1S-3",
        "outputId": "2b0caaac-d383-465b-bf7e-91f19c1a1408"
      },
      "outputs": [
        {
          "output_type": "execute_result",
          "data": {
            "text/plain": [
              "0    4202912\n",
              "1       8213\n",
              "Name: isFraud, dtype: int64"
            ]
          },
          "metadata": {},
          "execution_count": 29
        }
      ],
      "source": [
        "df_customers.isFraud.value_counts()"
      ]
    },
    {
      "cell_type": "code",
      "execution_count": 30,
      "metadata": {
        "colab": {
          "base_uri": "https://localhost:8080/"
        },
        "id": "t1d2aF6pqEpE",
        "outputId": "2e4d1562-3ff3-45c1-e18e-8f7d1ef97d32"
      },
      "outputs": [
        {
          "output_type": "execute_result",
          "data": {
            "text/plain": [
              "0    4211109\n",
              "1         16\n",
              "Name: isFlaggedFraud, dtype: int64"
            ]
          },
          "metadata": {},
          "execution_count": 30
        }
      ],
      "source": [
        "df_customers.isFlaggedFraud.value_counts()"
      ]
    },
    {
      "cell_type": "code",
      "execution_count": 31,
      "metadata": {
        "colab": {
          "base_uri": "https://localhost:8080/"
        },
        "id": "vqBM5YLpL6ey",
        "outputId": "cab8b6d3-42dc-469b-c485-56d0df55e4cb"
      },
      "outputs": [
        {
          "output_type": "execute_result",
          "data": {
            "text/plain": [
              "((6362620, 11),\n",
              " 0    6354407\n",
              " 1       8213\n",
              " Name: isFraud, dtype: int64)"
            ]
          },
          "metadata": {},
          "execution_count": 31
        }
      ],
      "source": [
        "df.shape,df.isFraud.value_counts()"
      ]
    },
    {
      "cell_type": "code",
      "execution_count": 32,
      "metadata": {
        "colab": {
          "base_uri": "https://localhost:8080/",
          "height": 482
        },
        "id": "DmjUKjGSSvQ2",
        "outputId": "f9b44367-802c-4801-a4dd-405aee9451a4"
      },
      "outputs": [
        {
          "output_type": "execute_result",
          "data": {
            "text/plain": [
              "<Axes: xlabel='type', ylabel='count'>"
            ]
          },
          "metadata": {},
          "execution_count": 32
        },
        {
          "output_type": "display_data",
          "data": {
            "text/plain": [
              "<Figure size 640x480 with 1 Axes>"
            ],
            "image/png": "[encoded data removed]"
          },
          "metadata": {}
        }
      ],
      "source": [
        "sns.countplot(x='type',data =df_customers)"
      ]
    },
    {
      "cell_type": "markdown",
      "metadata": {
        "id": "eUCWBf-IYFge"
      },
      "source": [
        "Observation : Customers haven't made any transaction with payment type"
      ]
    },
    {
      "cell_type": "code",
      "execution_count": 33,
      "metadata": {
        "colab": {
          "base_uri": "https://localhost:8080/"
        },
        "id": "Uo7jeU3-ZOEO",
        "outputId": "b887ed1c-85f0-4475-886a-9036261ade0a"
      },
      "outputs": [
        {
          "output_type": "stream",
          "name": "stdout",
          "text": [
            "    step      type     amount     nameOrig  oldbalanceOrg  newbalanceOrig  \\\n",
            "2      1  TRANSFER     181.00  C1305486145          181.0            0.00   \n",
            "3      1  CASH_OUT     181.00   C840083671          181.0            0.00   \n",
            "9      1     DEBIT    5337.77   C712410124        41720.0        36382.23   \n",
            "10     1     DEBIT    9644.94  C1900366749         4465.0            0.00   \n",
            "15     1  CASH_OUT  229133.94   C905080434        15325.0            0.00   \n",
            "\n",
            "      nameDest  oldbalanceDest  newbalanceDest isFraud isFlaggedFraud  \n",
            "2   C553264065             0.0            0.00       1              0  \n",
            "3    C38997010         21182.0            0.00       1              0  \n",
            "9   C195600860         41898.0        40348.79       0              0  \n",
            "10  C997608398         10845.0       157982.12       0              0  \n",
            "15  C476402209          5083.0        51513.44       0              0  \n"
          ]
        }
      ],
      "source": [
        "print (df_customers.head())"
      ]
    },
    {
      "cell_type": "code",
      "execution_count": 34,
      "metadata": {
        "colab": {
          "base_uri": "https://localhost:8080/"
        },
        "id": "ylYiCtPgo6Ar",
        "outputId": "4b9016b2-38d3-4e27-cb56-6de0058e2560"
      },
      "outputs": [
        {
          "output_type": "stream",
          "name": "stdout",
          "text": [
            "<class 'pandas.core.frame.DataFrame'>\n",
            "Int64Index: 4211125 entries, 2 to 6362619\n",
            "Data columns (total 11 columns):\n",
            " #   Column          Dtype  \n",
            "---  ------          -----  \n",
            " 0   step            int64  \n",
            " 1   type            object \n",
            " 2   amount          float64\n",
            " 3   nameOrig        object \n",
            " 4   oldbalanceOrg   float64\n",
            " 5   newbalanceOrig  float64\n",
            " 6   nameDest        object \n",
            " 7   oldbalanceDest  float64\n",
            " 8   newbalanceDest  float64\n",
            " 9   isFraud         object \n",
            " 10  isFlaggedFraud  object \n",
            "dtypes: float64(5), int64(1), object(5)\n",
            "memory usage: 385.5+ MB\n"
          ]
        }
      ],
      "source": [
        "df_customers.info()"
      ]
    },
    {
      "cell_type": "markdown",
      "metadata": {
        "id": "PXcTbYBpalnF"
      },
      "source": [
        "### Multicollinearity"
      ]
    },
    {
      "cell_type": "code",
      "execution_count": 35,
      "metadata": {
        "colab": {
          "base_uri": "https://localhost:8080/",
          "height": 701
        },
        "id": "5AwMDGOtZ9LV",
        "outputId": "33027a3a-d529-45d4-9af4-b32f6f123e20"
      },
      "outputs": [
        {
          "output_type": "stream",
          "name": "stderr",
          "text": [
            "<ipython-input-35-74c0551aac88>:12: FutureWarning: The default value of numeric_only in DataFrame.corr is deprecated. In a future version, it will default to False. Select only valid columns or specify the value of numeric_only to silence this warning.\n",
            "  corr=df_customers.corr()\n"
          ]
        },
        {
          "output_type": "execute_result",
          "data": {
            "text/plain": [
              "<Axes: >"
            ]
          },
          "metadata": {},
          "execution_count": 35
        },
        {
          "output_type": "display_data",
          "data": {
            "text/plain": [
              "<Figure size 1000x600 with 2 Axes>"
            ],
            "image/png": "[encoded data removed]"
          },
          "metadata": {}
        }
      ],
      "source": [
        "# #VIF (VARIANCE INFLATION FACTOR)\n",
        "\n",
        "# from statsmodels.stats.outliers_influence import variance_inflation_factor\n",
        "\n",
        "# def calc_vif(df):\n",
        "#     vif = pd.DataFrame()\n",
        "#     vif[\"variables\"] = df.columns\n",
        "#     vif[\"VIF\"] = [variance_inflation_factor(df.values, i) for i in range(df.shape[1])]\n",
        "#     return(vif)\n",
        "\n",
        "# calc_vif(df_customers)\n",
        "corr=df_customers.corr()\n",
        "plt.figure(figsize=(10,6))\n",
        "sns.heatmap(corr,annot=True)"
      ]
    },
    {
      "cell_type": "markdown",
      "metadata": {
        "id": "LtmfpSblizcc"
      },
      "source": [
        "Observation: for 2 combinations like oldbalanceOrg,newbalanceOrig and oldbalanceDest,newbalanceDest Vif values are high. So doing feature extraction on those variables\n",
        "\n",
        "\n"
      ]
    },
    {
      "cell_type": "code",
      "execution_count": 36,
      "metadata": {
        "colab": {
          "base_uri": "https://localhost:8080/"
        },
        "id": "HSYeU2lgkYtw",
        "outputId": "0a44eae1-a345-44d0-862f-9738bafc3cbe"
      },
      "outputs": [
        {
          "output_type": "stream",
          "name": "stderr",
          "text": [
            "<ipython-input-36-305220dc809d>:1: SettingWithCopyWarning: \n",
            "A value is trying to be set on a copy of a slice from a DataFrame.\n",
            "Try using .loc[row_indexer,col_indexer] = value instead\n",
            "\n",
            "See the caveats in the documentation: https://pandas.pydata.org/pandas-docs/stable/user_guide/indexing.html#returning-a-view-versus-a-copy\n",
            "  df_customers['Actual_amount_orig'] = df_customers['oldbalanceOrg'] - df_customers['newbalanceOrig']\n",
            "<ipython-input-36-305220dc809d>:2: SettingWithCopyWarning: \n",
            "A value is trying to be set on a copy of a slice from a DataFrame.\n",
            "Try using .loc[row_indexer,col_indexer] = value instead\n",
            "\n",
            "See the caveats in the documentation: https://pandas.pydata.org/pandas-docs/stable/user_guide/indexing.html#returning-a-view-versus-a-copy\n",
            "  df_customers['Actual_amount_dest'] = df_customers['oldbalanceDest'] - df_customers['newbalanceDest']\n",
            "<ipython-input-36-305220dc809d>:3: SettingWithCopyWarning: \n",
            "A value is trying to be set on a copy of a slice from a DataFrame.\n",
            "Try using .loc[row_indexer,col_indexer] = value instead\n",
            "\n",
            "See the caveats in the documentation: https://pandas.pydata.org/pandas-docs/stable/user_guide/indexing.html#returning-a-view-versus-a-copy\n",
            "  df_customers['TransactionPath'] = df_customers['nameOrig'] + df_customers['nameDest']\n"
          ]
        }
      ],
      "source": [
        "df_customers['Actual_amount_orig'] = df_customers['oldbalanceOrg'] - df_customers['newbalanceOrig']\n",
        "df_customers['Actual_amount_dest'] = df_customers['oldbalanceDest'] - df_customers['newbalanceDest']\n",
        "df_customers['TransactionPath'] = df_customers['nameOrig'] + df_customers['nameDest']\n",
        "# print(calc_vif(df_customers))"
      ]
    },
    {
      "cell_type": "code",
      "execution_count": 37,
      "metadata": {
        "id": "F92ay1Eza0Bb"
      },
      "outputs": [],
      "source": [
        "df_customers_cleaned = df_customers.drop(['oldbalanceOrg','newbalanceOrig','oldbalanceDest','newbalanceDest','step','nameOrig','nameDest'],axis=1)\n",
        "# print(calc_vif(df_customers_cleaned))"
      ]
    },
    {
      "cell_type": "code",
      "execution_count": 38,
      "metadata": {
        "colab": {
          "base_uri": "https://localhost:8080/",
          "height": 600
        },
        "id": "JF-ZdzAjivqL",
        "outputId": "c1801037-bc24-4973-8348-f0e01e1ec869"
      },
      "outputs": [
        {
          "output_type": "stream",
          "name": "stderr",
          "text": [
            "<ipython-input-38-33ef47281b0a>:1: FutureWarning: The default value of numeric_only in DataFrame.corr is deprecated. In a future version, it will default to False. Select only valid columns or specify the value of numeric_only to silence this warning.\n",
            "  corr=df_customers_cleaned.corr()\n"
          ]
        },
        {
          "output_type": "execute_result",
          "data": {
            "text/plain": [
              "<Axes: >"
            ]
          },
          "metadata": {},
          "execution_count": 38
        },
        {
          "output_type": "display_data",
          "data": {
            "text/plain": [
              "<Figure size 1000x600 with 2 Axes>"
            ],
            "image/png": "[encoded data removed]"
          },
          "metadata": {}
        }
      ],
      "source": [
        "corr=df_customers_cleaned.corr()\n",
        "plt.figure(figsize=(10,6))\n",
        "sns.heatmap(corr,annot=True)"
      ]
    },
    {
      "cell_type": "code",
      "execution_count": 39,
      "metadata": {
        "id": "2RpRE8_3kMtH"
      },
      "outputs": [],
      "source": [
        "from sklearn.preprocessing import StandardScaler\n",
        "from sklearn.model_selection import train_test_split\n",
        "from sklearn.ensemble import RandomForestClassifier\n",
        "from sklearn.tree import DecisionTreeClassifier\n",
        "import itertools\n",
        "from collections import Counter\n",
        "import sklearn.metrics as metrics\n",
        "from sklearn.metrics import classification_report, confusion_matrix, ConfusionMatrixDisplay"
      ]
    },
    {
      "cell_type": "code",
      "execution_count": 40,
      "metadata": {
        "colab": {
          "base_uri": "https://localhost:8080/"
        },
        "id": "iesC2sNolEbI",
        "outputId": "495996a2-32b2-43c7-f62e-7b5a055e1d1c"
      },
      "outputs": [
        {
          "output_type": "stream",
          "name": "stdout",
          "text": [
            "['type', 'isFraud', 'isFlaggedFraud', 'TransactionPath']\n"
          ]
        }
      ],
      "source": [
        "objectList = list(df_customers_cleaned.select_dtypes(include = \"object\").columns)\n",
        "print (objectList)"
      ]
    },
    {
      "cell_type": "code",
      "execution_count": 41,
      "metadata": {
        "id": "UuYzjBzKlEd-"
      },
      "outputs": [],
      "source": [
        "from sklearn.preprocessing import LabelEncoder\n",
        "encoder = LabelEncoder()\n",
        "\n",
        "for feat in objectList:\n",
        "    df_customers_cleaned[feat] = encoder.fit_transform(df_customers_cleaned[feat].astype(str))"
      ]
    },
    {
      "cell_type": "code",
      "execution_count": 42,
      "metadata": {
        "colab": {
          "base_uri": "https://localhost:8080/"
        },
        "id": "cEmeKc8Vl4ic",
        "outputId": "71a00f7e-e8a8-41e9-cdc8-9e69e1264e41"
      },
      "outputs": [
        {
          "output_type": "stream",
          "name": "stdout",
          "text": [
            "Shape of X_train:  (2821453, 6)\n",
            "Shape of X_test:  (1389672, 6)\n"
          ]
        }
      ],
      "source": [
        "X = df_customers_cleaned.drop(columns = ['isFraud'])\n",
        "y = df_customers_cleaned['isFraud']\n",
        "\n",
        "x_train,x_test,y_train,y_test = train_test_split(X,y,test_size=0.33,random_state=42)\n",
        "\n",
        "print(\"Shape of X_train: \", x_train.shape)\n",
        "print(\"Shape of X_test: \", x_test.shape)"
      ]
    },
    {
      "cell_type": "code",
      "execution_count": 43,
      "metadata": {
        "id": "FL6uGhfJpMau"
      },
      "outputs": [],
      "source": [
        "# objectList.remove('isFraud')\n",
        "# for feat in objectList:\n",
        "#     x_train[feat] = encoder.fit_transform(x_train[feat].astype(str))\n",
        "# print(df_customers_cleaned.info())\n",
        "\n",
        "# for feat in objectList:\n",
        "#     x_test[feat] = encoder.transform(x_test[feat].astype(str))\n",
        "# print(df_customers_cleaned.info())"
      ]
    },
    {
      "cell_type": "code",
      "execution_count": 44,
      "metadata": {
        "id": "rOTGSFbakcro"
      },
      "outputs": [],
      "source": [
        "scaler = StandardScaler()\n",
        "x_train[\"NormalizedAmount\"] = scaler.fit_transform(x_train[\"amount\"].values.reshape(-1, 1))\n",
        "x_test[\"NormalizedAmount\"] = scaler.transform(x_test[\"amount\"].values.reshape(-1, 1))"
      ]
    },
    {
      "cell_type": "code",
      "execution_count": 45,
      "metadata": {
        "id": "7fqtONTcr4W-"
      },
      "outputs": [],
      "source": [
        "# DECISION TREE\n",
        "\n",
        "decision_tree = DecisionTreeClassifier()\n",
        "decision_tree.fit(x_train, y_train)\n",
        "\n",
        "Y_pred_dt = decision_tree.predict(x_test)\n",
        "decision_tree_score = decision_tree.score(x_test, y_test) * 100"
      ]
    },
    {
      "cell_type": "code",
      "execution_count": 46,
      "metadata": {
        "colab": {
          "base_uri": "https://localhost:8080/"
        },
        "id": "olTTglfUtVjB",
        "outputId": "178aea79-6421-41c4-f053-26be6b4a4712"
      },
      "outputs": [
        {
          "output_type": "stream",
          "name": "stdout",
          "text": [
            "CPU times: user 6 µs, sys: 0 ns, total: 6 µs\n",
            "Wall time: 10 µs\n"
          ]
        }
      ],
      "source": [
        "%time\n",
        "random_forest = RandomForestClassifier(n_estimators= 100)\n",
        "random_forest.fit(x_train, y_train)\n",
        "\n",
        "Y_pred_rf = random_forest.predict(x_test)\n",
        "random_forest_score = random_forest.score(x_test, y_test) * 100"
      ]
    },
    {
      "cell_type": "code",
      "execution_count": 47,
      "metadata": {
        "colab": {
          "base_uri": "https://localhost:8080/"
        },
        "id": "-vtcguhwvpRG",
        "outputId": "1e62f67b-abed-448b-d417-87b753147365"
      },
      "outputs": [
        {
          "output_type": "stream",
          "name": "stdout",
          "text": [
            "Decision Tree Score:  99.88515275547036\n",
            "Random Forest Score:  99.937107461329\n"
          ]
        }
      ],
      "source": [
        "# Print scores of our classifiers\n",
        "\n",
        "print(\"Decision Tree Score: \", decision_tree_score)\n",
        "print(\"Random Forest Score: \", random_forest_score)"
      ]
    },
    {
      "cell_type": "markdown",
      "source": [
        "Observation:\n",
        "Decision Tree Score:  99.88515275547036,\n",
        "Random Forest Score:  99.937107461329  accuracy of Random Forest is more compared to Decision Tree classifier"
      ],
      "metadata": {
        "id": "fVl78PMke9WE"
      }
    },
    {
      "cell_type": "code",
      "execution_count": 52,
      "metadata": {
        "id": "8vZC2j2pwQyK",
        "colab": {
          "base_uri": "https://localhost:8080/",
          "height": 482
        },
        "outputId": "708d171e-18f6-4a0f-fdd4-3cdad0588baa"
      },
      "outputs": [
        {
          "output_type": "execute_result",
          "data": {
            "text/plain": [
              "<sklearn.metrics._plot.confusion_matrix.ConfusionMatrixDisplay at 0x7f4bbbeeba60>"
            ]
          },
          "metadata": {},
          "execution_count": 52
        },
        {
          "output_type": "display_data",
          "data": {
            "text/plain": [
              "<Figure size 640x480 with 2 Axes>"
            ],
            "image/png": "[encoded data removed]"
          },
          "metadata": {}
        }
      ],
      "source": [
        " cm = confusion_matrix(y_test, Y_pred_dt, labels=decision_tree.classes_)\n",
        " disp = ConfusionMatrixDisplay(confusion_matrix=cm,display_labels=decision_tree.classes_)\n",
        " disp.plot()"
      ]
    },
    {
      "cell_type": "code",
      "source": [
        " cm = confusion_matrix(y_test, Y_pred_rf, labels=random_forest.classes_)\n",
        " disp = ConfusionMatrixDisplay(confusion_matrix=cm,display_labels=random_forest.classes_)\n",
        " disp.plot()"
      ],
      "metadata": {
        "colab": {
          "base_uri": "https://localhost:8080/",
          "height": 482
        },
        "id": "JCAEyX3ZfvRP",
        "outputId": "eb6f0411-9da0-4b2d-c50d-20cad28e447d"
      },
      "execution_count": 53,
      "outputs": [
        {
          "output_type": "execute_result",
          "data": {
            "text/plain": [
              "<sklearn.metrics._plot.confusion_matrix.ConfusionMatrixDisplay at 0x7f4bbbe08e20>"
            ]
          },
          "metadata": {},
          "execution_count": 53
        },
        {
          "output_type": "display_data",
          "data": {
            "text/plain": [
              "<Figure size 640x480 with 2 Axes>"
            ],
            "image/png": "[encoded data removed]"
          },
          "metadata": {}
        }
      ]
    },
    {
      "cell_type": "code",
      "source": [
        "print(\"Classification Report of Decision Tree\")\n",
        "classification_report_dt = classification_report(y_test, Y_pred_dt)\n",
        "print(classification_report_dt)"
      ],
      "metadata": {
        "colab": {
          "base_uri": "https://localhost:8080/"
        },
        "id": "UGO1btSEgE0R",
        "outputId": "e37c0d13-92ac-4cd0-90e9-d85800958d97"
      },
      "execution_count": 58,
      "outputs": [
        {
          "output_type": "stream",
          "name": "stdout",
          "text": [
            "Classification Report of Decision Tree\n",
            "              precision    recall  f1-score   support\n",
            "\n",
            "           0       1.00      1.00      1.00   1387002\n",
            "           1       0.70      0.71      0.70      2670\n",
            "\n",
            "    accuracy                           1.00   1389672\n",
            "   macro avg       0.85      0.85      0.85   1389672\n",
            "weighted avg       1.00      1.00      1.00   1389672\n",
            "\n"
          ]
        }
      ]
    },
    {
      "cell_type": "code",
      "source": [
        "print(\"Classification Report of Random Forest\")\n",
        "classification_report_rf = classification_report(y_test, Y_pred_rf)\n",
        "print(classification_report_rf)"
      ],
      "metadata": {
        "colab": {
          "base_uri": "https://localhost:8080/"
        },
        "id": "4W43_wXagFHA",
        "outputId": "5e095040-b263-4d32-fb40-ce03216eab48"
      },
      "execution_count": 59,
      "outputs": [
        {
          "output_type": "stream",
          "name": "stdout",
          "text": [
            "Classification Report of Random Forest\n",
            "              precision    recall  f1-score   support\n",
            "\n",
            "           0       1.00      1.00      1.00   1387002\n",
            "           1       0.96      0.70      0.81      2670\n",
            "\n",
            "    accuracy                           1.00   1389672\n",
            "   macro avg       0.98      0.85      0.91   1389672\n",
            "weighted avg       1.00      1.00      1.00   1389672\n",
            "\n"
          ]
        }
      ]
    },
    {
      "cell_type": "markdown",
      "source": [
        "Observation: F1 - score is more for random_forest compared to decision tree. So random_forest is able to generalize fake and real data very well."
      ],
      "metadata": {
        "id": "rYjUzGtQgyS4"
      }
    },
    {
      "cell_type": "code",
      "source": [
        "df_fraud = df_customers[df_customers['isFraud']=='1']\n",
        "df_fraud.head(10)"
      ],
      "metadata": {
        "colab": {
          "base_uri": "https://localhost:8080/",
          "height": 427
        },
        "id": "0LPYP66OiJrB",
        "outputId": "bbed2dab-f299-490e-fcde-19fdc0c0818e"
      },
      "execution_count": 70,
      "outputs": [
        {
          "output_type": "execute_result",
          "data": {
            "text/plain": [
              "      step      type      amount     nameOrig  oldbalanceOrg  newbalanceOrig  \\\n",
              "2        1  TRANSFER      181.00  C1305486145         181.00             0.0   \n",
              "3        1  CASH_OUT      181.00   C840083671         181.00             0.0   \n",
              "251      1  TRANSFER     2806.00  C1420196421        2806.00             0.0   \n",
              "252      1  CASH_OUT     2806.00  C2101527076        2806.00             0.0   \n",
              "680      1  TRANSFER    20128.00   C137533655       20128.00             0.0   \n",
              "681      1  CASH_OUT    20128.00  C1118430673       20128.00             0.0   \n",
              "724      1  CASH_OUT   416001.33   C749981943           0.00             0.0   \n",
              "969      1  TRANSFER  1277212.77  C1334405552     1277212.77             0.0   \n",
              "970      1  CASH_OUT  1277212.77   C467632528     1277212.77             0.0   \n",
              "1115     1  TRANSFER    35063.63  C1364127192       35063.63             0.0   \n",
              "\n",
              "         nameDest  oldbalanceDest  newbalanceDest isFraud isFlaggedFraud  \\\n",
              "2      C553264065             0.0            0.00       1              0   \n",
              "3       C38997010         21182.0            0.00       1              0   \n",
              "251    C972765878             0.0            0.00       1              0   \n",
              "252   C1007251739         26202.0            0.00       1              0   \n",
              "680   C1848415041             0.0            0.00       1              0   \n",
              "681    C339924917          6268.0        12145.85       1              0   \n",
              "724    C667346055           102.0      9291619.62       1              0   \n",
              "969    C431687661             0.0            0.00       1              0   \n",
              "970    C716083600             0.0      2444985.19       1              0   \n",
              "1115  C1136419747             0.0            0.00       1              0   \n",
              "\n",
              "      Actual_amount_orig  Actual_amount_dest         TransactionPath  \n",
              "2                 181.00                0.00   C1305486145C553264065  \n",
              "3                 181.00            21182.00     C840083671C38997010  \n",
              "251              2806.00                0.00   C1420196421C972765878  \n",
              "252              2806.00            26202.00  C2101527076C1007251739  \n",
              "680             20128.00                0.00   C137533655C1848415041  \n",
              "681             20128.00            -5877.85   C1118430673C339924917  \n",
              "724                 0.00         -9291517.62    C749981943C667346055  \n",
              "969           1277212.77                0.00   C1334405552C431687661  \n",
              "970           1277212.77         -2444985.19    C467632528C716083600  \n",
              "1115            35063.63                0.00  C1364127192C1136419747  "
            ],
            "text/html": [
              "\n",
              "  <div id=\"df-5b0677d7-6376-4bf4-9b64-600b2c7c0756\">\n",
              "    <div class=\"colab-df-container\">\n",
              "      <div>\n",
              "<style scoped>\n",
              "    .dataframe tbody tr th:only-of-type {\n",
              "        vertical-align: middle;\n",
              "    }\n",
              "\n",
              "    .dataframe tbody tr th {\n",
              "        vertical-align: top;\n",
              "    }\n",
              "\n",
              "    .dataframe thead th {\n",
              "        text-align: right;\n",
              "    }\n",
              "</style>\n",
              "<table border=\"1\" class=\"dataframe\">\n",
              "  <thead>\n",
              "    <tr style=\"text-align: right;\">\n",
              "      <th></th>\n",
              "      <th>step</th>\n",
              "      <th>type</th>\n",
              "      <th>amount</th>\n",
              "      <th>nameOrig</th>\n",
              "      <th>oldbalanceOrg</th>\n",
              "      <th>newbalanceOrig</th>\n",
              "      <th>nameDest</th>\n",
              "      <th>oldbalanceDest</th>\n",
              "      <th>newbalanceDest</th>\n",
              "      <th>isFraud</th>\n",
              "      <th>isFlaggedFraud</th>\n",
              "      <th>Actual_amount_orig</th>\n",
              "      <th>Actual_amount_dest</th>\n",
              "      <th>TransactionPath</th>\n",
              "    </tr>\n",
              "  </thead>\n",
              "  <tbody>\n",
              "    <tr>\n",
              "      <th>2</th>\n",
              "      <td>1</td>\n",
              "      <td>TRANSFER</td>\n",
              "      <td>181.00</td>\n",
              "      <td>C1305486145</td>\n",
              "      <td>181.00</td>\n",
              "      <td>0.0</td>\n",
              "      <td>C553264065</td>\n",
              "      <td>0.0</td>\n",
              "      <td>0.00</td>\n",
              "      <td>1</td>\n",
              "      <td>0</td>\n",
              "      <td>181.00</td>\n",
              "      <td>0.00</td>\n",
              "      <td>C1305486145C553264065</td>\n",
              "    </tr>\n",
              "    <tr>\n",
              "      <th>3</th>\n",
              "      <td>1</td>\n",
              "      <td>CASH_OUT</td>\n",
              "      <td>181.00</td>\n",
              "      <td>C840083671</td>\n",
              "      <td>181.00</td>\n",
              "      <td>0.0</td>\n",
              "      <td>C38997010</td>\n",
              "      <td>21182.0</td>\n",
              "      <td>0.00</td>\n",
              "      <td>1</td>\n",
              "      <td>0</td>\n",
              "      <td>181.00</td>\n",
              "      <td>21182.00</td>\n",
              "      <td>C840083671C38997010</td>\n",
              "    </tr>\n",
              "    <tr>\n",
              "      <th>251</th>\n",
              "      <td>1</td>\n",
              "      <td>TRANSFER</td>\n",
              "      <td>2806.00</td>\n",
              "      <td>C1420196421</td>\n",
              "      <td>2806.00</td>\n",
              "      <td>0.0</td>\n",
              "      <td>C972765878</td>\n",
              "      <td>0.0</td>\n",
              "      <td>0.00</td>\n",
              "      <td>1</td>\n",
              "      <td>0</td>\n",
              "      <td>2806.00</td>\n",
              "      <td>0.00</td>\n",
              "      <td>C1420196421C972765878</td>\n",
              "    </tr>\n",
              "    <tr>\n",
              "      <th>252</th>\n",
              "      <td>1</td>\n",
              "      <td>CASH_OUT</td>\n",
              "      <td>2806.00</td>\n",
              "      <td>C2101527076</td>\n",
              "      <td>2806.00</td>\n",
              "      <td>0.0</td>\n",
              "      <td>C1007251739</td>\n",
              "      <td>26202.0</td>\n",
              "      <td>0.00</td>\n",
              "      <td>1</td>\n",
              "      <td>0</td>\n",
              "      <td>2806.00</td>\n",
              "      <td>26202.00</td>\n",
              "      <td>C2101527076C1007251739</td>\n",
              "    </tr>\n",
              "    <tr>\n",
              "      <th>680</th>\n",
              "      <td>1</td>\n",
              "      <td>TRANSFER</td>\n",
              "      <td>20128.00</td>\n",
              "      <td>C137533655</td>\n",
              "      <td>20128.00</td>\n",
              "      <td>0.0</td>\n",
              "      <td>C1848415041</td>\n",
              "      <td>0.0</td>\n",
              "      <td>0.00</td>\n",
              "      <td>1</td>\n",
              "      <td>0</td>\n",
              "      <td>20128.00</td>\n",
              "      <td>0.00</td>\n",
              "      <td>C137533655C1848415041</td>\n",
              "    </tr>\n",
              "    <tr>\n",
              "      <th>681</th>\n",
              "      <td>1</td>\n",
              "      <td>CASH_OUT</td>\n",
              "      <td>20128.00</td>\n",
              "      <td>C1118430673</td>\n",
              "      <td>20128.00</td>\n",
              "      <td>0.0</td>\n",
              "      <td>C339924917</td>\n",
              "      <td>6268.0</td>\n",
              "      <td>12145.85</td>\n",
              "      <td>1</td>\n",
              "      <td>0</td>\n",
              "      <td>20128.00</td>\n",
              "      <td>-5877.85</td>\n",
              "      <td>C1118430673C339924917</td>\n",
              "    </tr>\n",
              "    <tr>\n",
              "      <th>724</th>\n",
              "      <td>1</td>\n",
              "      <td>CASH_OUT</td>\n",
              "      <td>416001.33</td>\n",
              "      <td>C749981943</td>\n",
              "      <td>0.00</td>\n",
              "      <td>0.0</td>\n",
              "      <td>C667346055</td>\n",
              "      <td>102.0</td>\n",
              "      <td>9291619.62</td>\n",
              "      <td>1</td>\n",
              "      <td>0</td>\n",
              "      <td>0.00</td>\n",
              "      <td>-9291517.62</td>\n",
              "      <td>C749981943C667346055</td>\n",
              "    </tr>\n",
              "    <tr>\n",
              "      <th>969</th>\n",
              "      <td>1</td>\n",
              "      <td>TRANSFER</td>\n",
              "      <td>1277212.77</td>\n",
              "      <td>C1334405552</td>\n",
              "      <td>1277212.77</td>\n",
              "      <td>0.0</td>\n",
              "      <td>C431687661</td>\n",
              "      <td>0.0</td>\n",
              "      <td>0.00</td>\n",
              "      <td>1</td>\n",
              "      <td>0</td>\n",
              "      <td>1277212.77</td>\n",
              "      <td>0.00</td>\n",
              "      <td>C1334405552C431687661</td>\n",
              "    </tr>\n",
              "    <tr>\n",
              "      <th>970</th>\n",
              "      <td>1</td>\n",
              "      <td>CASH_OUT</td>\n",
              "      <td>1277212.77</td>\n",
              "      <td>C467632528</td>\n",
              "      <td>1277212.77</td>\n",
              "      <td>0.0</td>\n",
              "      <td>C716083600</td>\n",
              "      <td>0.0</td>\n",
              "      <td>2444985.19</td>\n",
              "      <td>1</td>\n",
              "      <td>0</td>\n",
              "      <td>1277212.77</td>\n",
              "      <td>-2444985.19</td>\n",
              "      <td>C467632528C716083600</td>\n",
              "    </tr>\n",
              "    <tr>\n",
              "      <th>1115</th>\n",
              "      <td>1</td>\n",
              "      <td>TRANSFER</td>\n",
              "      <td>35063.63</td>\n",
              "      <td>C1364127192</td>\n",
              "      <td>35063.63</td>\n",
              "      <td>0.0</td>\n",
              "      <td>C1136419747</td>\n",
              "      <td>0.0</td>\n",
              "      <td>0.00</td>\n",
              "      <td>1</td>\n",
              "      <td>0</td>\n",
              "      <td>35063.63</td>\n",
              "      <td>0.00</td>\n",
              "      <td>C1364127192C1136419747</td>\n",
              "    </tr>\n",
              "  </tbody>\n",
              "</table>\n",
              "</div>\n",
              "      <button class=\"colab-df-convert\" onclick=\"convertToInteractive('df-5b0677d7-6376-4bf4-9b64-600b2c7c0756')\"\n",
              "              title=\"Convert this dataframe to an interactive table.\"\n",
              "              style=\"display:none;\">\n",
              "        \n",
              "  <svg xmlns=\"http://www.w3.org/2000/svg\" height=\"24px\"viewBox=\"0 0 24 24\"\n",
              "       width=\"24px\">\n",
              "    <path d=\"M0 0h24v24H0V0z\" fill=\"none\"/>\n",
              "    <path d=\"M18.56 5.44l.94 2.06.94-2.06 2.06-.94-2.06-.94-.94-2.06-.94 2.06-2.06.94zm-11 1L8.5 8.5l.94-2.06 2.06-.94-2.06-.94L8.5 2.5l-.94 2.06-2.06.94zm10 10l.94 2.06.94-2.06 2.06-.94-2.06-.94-.94-2.06-.94 2.06-2.06.94z\"/><path d=\"M17.41 7.96l-1.37-1.37c-.4-.4-.92-.59-1.43-.59-.52 0-1.04.2-1.43.59L10.3 9.45l-7.72 7.72c-.78.78-.78 2.05 0 2.83L4 21.41c.39.39.9.59 1.41.59.51 0 1.02-.2 1.41-.59l7.78-7.78 2.81-2.81c.8-.78.8-2.07 0-2.86zM5.41 20L4 18.59l7.72-7.72 1.47 1.35L5.41 20z\"/>\n",
              "  </svg>\n",
              "      </button>\n",
              "      \n",
              "  <style>\n",
              "    .colab-df-container {\n",
              "      display:flex;\n",
              "      flex-wrap:wrap;\n",
              "      gap: 12px;\n",
              "    }\n",
              "\n",
              "    .colab-df-convert {\n",
              "      background-color: #E8F0FE;\n",
              "      border: none;\n",
              "      border-radius: 50%;\n",
              "      cursor: pointer;\n",
              "      display: none;\n",
              "      fill: #1967D2;\n",
              "      height: 32px;\n",
              "      padding: 0 0 0 0;\n",
              "      width: 32px;\n",
              "    }\n",
              "\n",
              "    .colab-df-convert:hover {\n",
              "      background-color: #E2EBFA;\n",
              "      box-shadow: 0px 1px 2px rgba(60, 64, 67, 0.3), 0px 1px 3px 1px rgba(60, 64, 67, 0.15);\n",
              "      fill: #174EA6;\n",
              "    }\n",
              "\n",
              "    [theme=dark] .colab-df-convert {\n",
              "      background-color: #3B4455;\n",
              "      fill: #D2E3FC;\n",
              "    }\n",
              "\n",
              "    [theme=dark] .colab-df-convert:hover {\n",
              "      background-color: #434B5C;\n",
              "      box-shadow: 0px 1px 3px 1px rgba(0, 0, 0, 0.15);\n",
              "      filter: drop-shadow(0px 1px 2px rgba(0, 0, 0, 0.3));\n",
              "      fill: #FFFFFF;\n",
              "    }\n",
              "  </style>\n",
              "\n",
              "      <script>\n",
              "        const buttonEl =\n",
              "          document.querySelector('#df-5b0677d7-6376-4bf4-9b64-600b2c7c0756 button.colab-df-convert');\n",
              "        buttonEl.style.display =\n",
              "          google.colab.kernel.accessAllowed ? 'block' : 'none';\n",
              "\n",
              "        async function convertToInteractive(key) {\n",
              "          const element = document.querySelector('#df-5b0677d7-6376-4bf4-9b64-600b2c7c0756');\n",
              "          const dataTable =\n",
              "            await google.colab.kernel.invokeFunction('convertToInteractive',\n",
              "                                                     [key], {});\n",
              "          if (!dataTable) return;\n",
              "\n",
              "          const docLinkHtml = 'Like what you see? Visit the ' +\n",
              "            '<a target=\"_blank\" href=https://colab.research.google.com/notebooks/data_table.ipynb>data table notebook</a>'\n",
              "            + ' to learn more about interactive tables.';\n",
              "          element.innerHTML = '';\n",
              "          dataTable['output_type'] = 'display_data';\n",
              "          await google.colab.output.renderOutput(dataTable, element);\n",
              "          const docLink = document.createElement('div');\n",
              "          docLink.innerHTML = docLinkHtml;\n",
              "          element.appendChild(docLink);\n",
              "        }\n",
              "      </script>\n",
              "    </div>\n",
              "  </div>\n",
              "  "
            ]
          },
          "metadata": {},
          "execution_count": 70
        }
      ]
    },
    {
      "cell_type": "code",
      "source": [
        "sns.countplot(x='type', data = df_fraud)"
      ],
      "metadata": {
        "colab": {
          "base_uri": "https://localhost:8080/",
          "height": 466
        },
        "id": "jzP1Rj4TiSXN",
        "outputId": "c13fa319-ed5b-4976-fa0d-13c33b45157f"
      },
      "execution_count": 71,
      "outputs": [
        {
          "output_type": "execute_result",
          "data": {
            "text/plain": [
              "<Axes: xlabel='type', ylabel='count'>"
            ]
          },
          "metadata": {},
          "execution_count": 71
        },
        {
          "output_type": "display_data",
          "data": {
            "text/plain": [
              "<Figure size 640x480 with 1 Axes>"
            ],
            "image/png": "[encoded data removed]"
          },
          "metadata": {}
        }
      ]
    },
    {
      "cell_type": "markdown",
      "source": [
        "Observation: All the fraudulent transactions are based on Transfer and cash out type"
      ],
      "metadata": {
        "id": "1ZmpQZ22joGs"
      }
    },
    {
      "cell_type": "markdown",
      "source": [
        "\n",
        "### What are the key factors that predict fraudulent customer?\n",
        "\n",
        "The source of request is secured or not ?\n",
        "\n",
        "Is the name of organisation asking for money is legit or not ?\n",
        "\n",
        "Transaction history of vendors and amount of current transaction."
      ],
      "metadata": {
        "id": "vF3BioVJj0gV"
      }
    },
    {
      "cell_type": "markdown",
      "source": [
        "\n",
        "### What kind of prevention should be adopted while company update its infrastructure?\n",
        "\n",
        "Need to use 3 factor authentication like that\n",
        "\n",
        "Use smart phones apps wisely which provides security. \n",
        "\n",
        "Browse through secured websites.\n",
        "\n",
        "use secure browser and Use secured internet connections .\n",
        "\n",
        "Keep your mobile and laptop with security apps.\n",
        "\n",
        "Don't respond to unwanted calls/SMS(s/E-mails.\n",
        "\n",
        "contact your bank immidiately, if the transaction is fradulant.\n",
        "\n"
      ],
      "metadata": {
        "id": "fwkfop2YkIHy"
      }
    },
    {
      "cell_type": "markdown",
      "source": [
        "###Assuming these actions have been implemented, how would you determine if they work?\n",
        "\n",
        "Bank sending E-statements and special warning if the transaction seems fradulant.\n",
        "\n",
        "Customers keeping a check of their account activity.\n",
        "\n",
        "Always keep a log of your payments and nofity the bank if fradulant transaction occurs.\n"
      ],
      "metadata": {
        "id": "HijtCagallIC"
      }
    },
    {
      "cell_type": "code",
      "source": [],
      "metadata": {
        "id": "UZIPB7hklkg_"
      },
      "execution_count": null,
      "outputs": []
    },
    {
      "cell_type": "code",
      "source": [],
      "metadata": {
        "id": "06P12MZ2jFsh"
      },
      "execution_count": null,
      "outputs": []
    }
  ],
  "metadata": {
    "colab": {
      "provenance": []
    },
    "kernelspec": {
      "display_name": "Python 3",
      "name": "python3"
    },
    "language_info": {
      "name": "python"
    }
  },
  "nbformat": 4,
  "nbformat_minor": 0
}